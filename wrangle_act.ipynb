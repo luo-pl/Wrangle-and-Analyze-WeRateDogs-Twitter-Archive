{
 "cells": [
  {
   "cell_type": "markdown",
   "metadata": {
    "extensions": {
     "jupyter_dashboards": {
      "version": 1,
      "views": {
       "grid_default": {
        "col": 0,
        "height": 4,
        "hidden": false,
        "row": 0,
        "width": 4
       },
       "report_default": {
        "hidden": false
       }
      }
     }
    }
   },
   "source": [
    "# Wrangle and Analyze WeRateDogs Twitter Archive"
   ]
  },
  {
   "cell_type": "markdown",
   "metadata": {},
   "source": [
    "## Introduction"
   ]
  },
  {
   "cell_type": "markdown",
   "metadata": {},
   "source": [
    "WeRateDogs (https://twitter.com/dog_rates) is a Twitter account that is well-known for its pictures and commentary of dogs. Its popularity is built upon the internet's obsession with dogs, and its unique rating system that reflects how good all dogs are.\n",
    "\n",
    "The data for this project was gathered from three different sources. The first dataset was loaded from the downloaded file 'twitter-archive-enhanced.csv'. The second dataset was programmatically requested from https://d17h27t6h515a5.cloudfront.net/topher/2017/August/599fd2ad_image-predictions/image-predictions.tsv. The third dataset was gathered from the .json data accessed from the Twitter API through Tweepy.\n",
    "\n",
    "The goal of this project is to wrangle (gather, assess, clean) and then apply analysis with visualization for three insights:\n",
    "- How do people engage with WeRateDogs' content (retweets and favorites) over time?\n",
    "- How are dogs usually rated?\n",
    "- Which are the most favorited dog breeds and how are they rated?"
   ]
  },
  {
   "cell_type": "markdown",
   "metadata": {},
   "source": [
    "## Import Libraries"
   ]
  },
  {
   "cell_type": "code",
   "execution_count": 1,
   "metadata": {},
   "outputs": [],
   "source": [
    "import pandas as pd\n",
    "import numpy as np\n",
    "import seaborn as sns\n",
    "import matplotlib.pyplot as plt\n",
    "import tweepy\n",
    "from tweepy import OAuthHandler\n",
    "import json\n",
    "from timeit import default_timer as timer\n",
    "import requests\n",
    "from PIL import Image\n",
    "from io import BytesIO\n",
    "import re"
   ]
  },
  {
   "cell_type": "markdown",
   "metadata": {},
   "source": [
    "## Gathering Data\n",
    "In the cell below, **all** three pieces of data will be gathered for this project and loaded in the notebook.\n",
    "1. Directly download the WeRateDogs Twitter archive data (twitter_archive_enhanced.csv)"
   ]
  },
  {
   "cell_type": "code",
   "execution_count": 2,
   "metadata": {
    "extensions": {
     "jupyter_dashboards": {
      "version": 1,
      "views": {
       "grid_default": {
        "hidden": true
       },
       "report_default": {
        "hidden": true
       }
      }
     }
    }
   },
   "outputs": [
    {
     "data": {
      "text/html": [
       "<div>\n",
       "<style scoped>\n",
       "    .dataframe tbody tr th:only-of-type {\n",
       "        vertical-align: middle;\n",
       "    }\n",
       "\n",
       "    .dataframe tbody tr th {\n",
       "        vertical-align: top;\n",
       "    }\n",
       "\n",
       "    .dataframe thead th {\n",
       "        text-align: right;\n",
       "    }\n",
       "</style>\n",
       "<table border=\"1\" class=\"dataframe\">\n",
       "  <thead>\n",
       "    <tr style=\"text-align: right;\">\n",
       "      <th></th>\n",
       "      <th>tweet_id</th>\n",
       "      <th>in_reply_to_status_id</th>\n",
       "      <th>in_reply_to_user_id</th>\n",
       "      <th>timestamp</th>\n",
       "      <th>source</th>\n",
       "      <th>text</th>\n",
       "      <th>retweeted_status_id</th>\n",
       "      <th>retweeted_status_user_id</th>\n",
       "      <th>retweeted_status_timestamp</th>\n",
       "      <th>expanded_urls</th>\n",
       "      <th>rating_numerator</th>\n",
       "      <th>rating_denominator</th>\n",
       "      <th>name</th>\n",
       "      <th>doggo</th>\n",
       "      <th>floofer</th>\n",
       "      <th>pupper</th>\n",
       "      <th>puppo</th>\n",
       "    </tr>\n",
       "  </thead>\n",
       "  <tbody>\n",
       "    <tr>\n",
       "      <th>732</th>\n",
       "      <td>781524693396357120</td>\n",
       "      <td>NaN</td>\n",
       "      <td>NaN</td>\n",
       "      <td>2016-09-29 16:03:01 +0000</td>\n",
       "      <td>&lt;a href=\"http://twitter.com/download/iphone\" r...</td>\n",
       "      <td>Idk why this keeps happening. We only rate dog...</td>\n",
       "      <td>NaN</td>\n",
       "      <td>NaN</td>\n",
       "      <td>NaN</td>\n",
       "      <td>https://twitter.com/dog_rates/status/781524693...</td>\n",
       "      <td>12</td>\n",
       "      <td>10</td>\n",
       "      <td>None</td>\n",
       "      <td>None</td>\n",
       "      <td>None</td>\n",
       "      <td>None</td>\n",
       "      <td>None</td>\n",
       "    </tr>\n",
       "    <tr>\n",
       "      <th>2331</th>\n",
       "      <td>666353288456101888</td>\n",
       "      <td>NaN</td>\n",
       "      <td>NaN</td>\n",
       "      <td>2015-11-16 20:32:58 +0000</td>\n",
       "      <td>&lt;a href=\"http://twitter.com/download/iphone\" r...</td>\n",
       "      <td>Here we have a mixed Asiago from the Galápagos...</td>\n",
       "      <td>NaN</td>\n",
       "      <td>NaN</td>\n",
       "      <td>NaN</td>\n",
       "      <td>https://twitter.com/dog_rates/status/666353288...</td>\n",
       "      <td>8</td>\n",
       "      <td>10</td>\n",
       "      <td>None</td>\n",
       "      <td>None</td>\n",
       "      <td>None</td>\n",
       "      <td>None</td>\n",
       "      <td>None</td>\n",
       "    </tr>\n",
       "    <tr>\n",
       "      <th>674</th>\n",
       "      <td>789599242079838210</td>\n",
       "      <td>NaN</td>\n",
       "      <td>NaN</td>\n",
       "      <td>2016-10-21 22:48:24 +0000</td>\n",
       "      <td>&lt;a href=\"http://twitter.com/download/iphone\" r...</td>\n",
       "      <td>This is Brownie. She's wearing a Halloween the...</td>\n",
       "      <td>NaN</td>\n",
       "      <td>NaN</td>\n",
       "      <td>NaN</td>\n",
       "      <td>https://twitter.com/dog_rates/status/789599242...</td>\n",
       "      <td>12</td>\n",
       "      <td>10</td>\n",
       "      <td>Brownie</td>\n",
       "      <td>None</td>\n",
       "      <td>None</td>\n",
       "      <td>None</td>\n",
       "      <td>None</td>\n",
       "    </tr>\n",
       "  </tbody>\n",
       "</table>\n",
       "</div>"
      ],
      "text/plain": [
       "                tweet_id  in_reply_to_status_id  in_reply_to_user_id  \\\n",
       "732   781524693396357120                    NaN                  NaN   \n",
       "2331  666353288456101888                    NaN                  NaN   \n",
       "674   789599242079838210                    NaN                  NaN   \n",
       "\n",
       "                      timestamp  \\\n",
       "732   2016-09-29 16:03:01 +0000   \n",
       "2331  2015-11-16 20:32:58 +0000   \n",
       "674   2016-10-21 22:48:24 +0000   \n",
       "\n",
       "                                                 source  \\\n",
       "732   <a href=\"http://twitter.com/download/iphone\" r...   \n",
       "2331  <a href=\"http://twitter.com/download/iphone\" r...   \n",
       "674   <a href=\"http://twitter.com/download/iphone\" r...   \n",
       "\n",
       "                                                   text  retweeted_status_id  \\\n",
       "732   Idk why this keeps happening. We only rate dog...                  NaN   \n",
       "2331  Here we have a mixed Asiago from the Galápagos...                  NaN   \n",
       "674   This is Brownie. She's wearing a Halloween the...                  NaN   \n",
       "\n",
       "      retweeted_status_user_id retweeted_status_timestamp  \\\n",
       "732                        NaN                        NaN   \n",
       "2331                       NaN                        NaN   \n",
       "674                        NaN                        NaN   \n",
       "\n",
       "                                          expanded_urls  rating_numerator  \\\n",
       "732   https://twitter.com/dog_rates/status/781524693...                12   \n",
       "2331  https://twitter.com/dog_rates/status/666353288...                 8   \n",
       "674   https://twitter.com/dog_rates/status/789599242...                12   \n",
       "\n",
       "      rating_denominator     name doggo floofer pupper puppo  \n",
       "732                   10     None  None    None   None  None  \n",
       "2331                  10     None  None    None   None  None  \n",
       "674                   10  Brownie  None    None   None  None  "
      ]
     },
     "execution_count": 2,
     "metadata": {},
     "output_type": "execute_result"
    }
   ],
   "source": [
    "archive = pd.read_csv('twitter-archive-enhanced.csv')\n",
    "archive.sample(3)"
   ]
  },
  {
   "cell_type": "markdown",
   "metadata": {},
   "source": [
    "2. Use the Requests library to download the tweet image prediction (image_predictions.tsv)"
   ]
  },
  {
   "cell_type": "code",
   "execution_count": 3,
   "metadata": {},
   "outputs": [
    {
     "data": {
      "text/html": [
       "<div>\n",
       "<style scoped>\n",
       "    .dataframe tbody tr th:only-of-type {\n",
       "        vertical-align: middle;\n",
       "    }\n",
       "\n",
       "    .dataframe tbody tr th {\n",
       "        vertical-align: top;\n",
       "    }\n",
       "\n",
       "    .dataframe thead th {\n",
       "        text-align: right;\n",
       "    }\n",
       "</style>\n",
       "<table border=\"1\" class=\"dataframe\">\n",
       "  <thead>\n",
       "    <tr style=\"text-align: right;\">\n",
       "      <th></th>\n",
       "      <th>tweet_id</th>\n",
       "      <th>jpg_url</th>\n",
       "      <th>img_num</th>\n",
       "      <th>p1</th>\n",
       "      <th>p1_conf</th>\n",
       "      <th>p1_dog</th>\n",
       "      <th>p2</th>\n",
       "      <th>p2_conf</th>\n",
       "      <th>p2_dog</th>\n",
       "      <th>p3</th>\n",
       "      <th>p3_conf</th>\n",
       "      <th>p3_dog</th>\n",
       "    </tr>\n",
       "  </thead>\n",
       "  <tbody>\n",
       "    <tr>\n",
       "      <th>569</th>\n",
       "      <td>678389028614488064</td>\n",
       "      <td>https://pbs.twimg.com/media/CWofOHUWUAACGVa.jpg</td>\n",
       "      <td>1</td>\n",
       "      <td>miniature_pinscher</td>\n",
       "      <td>0.516284</td>\n",
       "      <td>True</td>\n",
       "      <td>kelpie</td>\n",
       "      <td>0.227402</td>\n",
       "      <td>True</td>\n",
       "      <td>vizsla</td>\n",
       "      <td>0.103246</td>\n",
       "      <td>True</td>\n",
       "    </tr>\n",
       "    <tr>\n",
       "      <th>780</th>\n",
       "      <td>689977555533848577</td>\n",
       "      <td>https://pbs.twimg.com/media/CZNK7NpWwAEAqUh.jpg</td>\n",
       "      <td>1</td>\n",
       "      <td>cowboy_hat</td>\n",
       "      <td>0.291081</td>\n",
       "      <td>False</td>\n",
       "      <td>Labrador_retriever</td>\n",
       "      <td>0.179625</td>\n",
       "      <td>True</td>\n",
       "      <td>sombrero</td>\n",
       "      <td>0.121493</td>\n",
       "      <td>False</td>\n",
       "    </tr>\n",
       "    <tr>\n",
       "      <th>678</th>\n",
       "      <td>683498322573824003</td>\n",
       "      <td>https://pbs.twimg.com/media/CXxGGOsUwAAr62n.jpg</td>\n",
       "      <td>1</td>\n",
       "      <td>Airedale</td>\n",
       "      <td>0.945362</td>\n",
       "      <td>True</td>\n",
       "      <td>Irish_terrier</td>\n",
       "      <td>0.026850</td>\n",
       "      <td>True</td>\n",
       "      <td>Lakeland_terrier</td>\n",
       "      <td>0.016826</td>\n",
       "      <td>True</td>\n",
       "    </tr>\n",
       "  </tbody>\n",
       "</table>\n",
       "</div>"
      ],
      "text/plain": [
       "               tweet_id                                          jpg_url  \\\n",
       "569  678389028614488064  https://pbs.twimg.com/media/CWofOHUWUAACGVa.jpg   \n",
       "780  689977555533848577  https://pbs.twimg.com/media/CZNK7NpWwAEAqUh.jpg   \n",
       "678  683498322573824003  https://pbs.twimg.com/media/CXxGGOsUwAAr62n.jpg   \n",
       "\n",
       "     img_num                  p1   p1_conf  p1_dog                  p2  \\\n",
       "569        1  miniature_pinscher  0.516284    True              kelpie   \n",
       "780        1          cowboy_hat  0.291081   False  Labrador_retriever   \n",
       "678        1            Airedale  0.945362    True       Irish_terrier   \n",
       "\n",
       "      p2_conf  p2_dog                p3   p3_conf  p3_dog  \n",
       "569  0.227402    True            vizsla  0.103246    True  \n",
       "780  0.179625    True          sombrero  0.121493   False  \n",
       "678  0.026850    True  Lakeland_terrier  0.016826    True  "
      ]
     },
     "execution_count": 3,
     "metadata": {},
     "output_type": "execute_result"
    }
   ],
   "source": [
    "image = requests.get('https://d17h27t6h515a5.cloudfront.net/topher/2017/August/599fd2ad_image-predictions/image-predictions.tsv')\n",
    "\n",
    "with open('image-predictions.tsv', 'wb') as file:\n",
    "    file.write(image.content)\n",
    "    \n",
    "images = pd.read_csv('image-predictions.tsv', sep='\\t')\n",
    "images.sample(3)"
   ]
  },
  {
   "cell_type": "markdown",
   "metadata": {},
   "source": [
    "3. Use the Tweepy library to query additional data via the Twitter API (tweet_json.txt)"
   ]
  },
  {
   "cell_type": "code",
   "execution_count": 4,
   "metadata": {},
   "outputs": [],
   "source": [
    "# tweet_ids = archive.tweet_id.values\n",
    "# len(tweet_ids)"
   ]
  },
  {
   "cell_type": "code",
   "execution_count": 5,
   "metadata": {},
   "outputs": [],
   "source": [
    "# consumer_key = 'HIDDEN'\n",
    "# consumer_secret = 'HIDDEN'\n",
    "# access_token = 'HIDDEN'\n",
    "# access_secret = 'HIDDEN'\n",
    "\n",
    "# auth = tweepy.OAuthHandler(consumer_key, consumer_secret)\n",
    "# auth.set_access_token(access_token, access_secret)\n",
    "\n",
    "# api = tweepy.API(auth)"
   ]
  },
  {
   "cell_type": "code",
   "execution_count": 6,
   "metadata": {},
   "outputs": [],
   "source": [
    "# # Query Twitter's API for JSON data for each tweet ID in the Twitter archive\n",
    "# count = 0\n",
    "# fails_dict = {}\n",
    "# start = timer()\n",
    "# # Save each tweet's returned JSON as a new line in a .txt file\n",
    "# with open('tweet_json.txt', 'w') as outfile:\n",
    "#     for tweet_id in tweet_ids:\n",
    "#         count += 1\n",
    "#         print(str(count) + \": \" + str(tweet_id))\n",
    "#         try:\n",
    "#             tweet = api.get_status(tweet_id, tweet_mode='extended')\n",
    "#             print(\"Success\")\n",
    "#             json.dump(tweet._json, outfile)\n",
    "#             outfile.write('\\n')\n",
    "#         except tweepy.TweepError as e:\n",
    "#             print(\"Fail\")\n",
    "#             fails_dict[tweet_id] = e\n",
    "#             pass\n",
    "\n",
    "# end = timer()\n",
    "# print(end - start)\n",
    "# print(fails_dict)"
   ]
  },
  {
   "cell_type": "code",
   "execution_count": 7,
   "metadata": {},
   "outputs": [
    {
     "data": {
      "text/html": [
       "<div>\n",
       "<style scoped>\n",
       "    .dataframe tbody tr th:only-of-type {\n",
       "        vertical-align: middle;\n",
       "    }\n",
       "\n",
       "    .dataframe tbody tr th {\n",
       "        vertical-align: top;\n",
       "    }\n",
       "\n",
       "    .dataframe thead th {\n",
       "        text-align: right;\n",
       "    }\n",
       "</style>\n",
       "<table border=\"1\" class=\"dataframe\">\n",
       "  <thead>\n",
       "    <tr style=\"text-align: right;\">\n",
       "      <th></th>\n",
       "      <th>tweet_id</th>\n",
       "      <th>retweet_count</th>\n",
       "      <th>favorite_count</th>\n",
       "    </tr>\n",
       "  </thead>\n",
       "  <tbody>\n",
       "    <tr>\n",
       "      <th>2024</th>\n",
       "      <td>671879137494245376</td>\n",
       "      <td>748</td>\n",
       "      <td>1507</td>\n",
       "    </tr>\n",
       "    <tr>\n",
       "      <th>643</th>\n",
       "      <td>793180763617361921</td>\n",
       "      <td>2310</td>\n",
       "      <td>7740</td>\n",
       "    </tr>\n",
       "    <tr>\n",
       "      <th>960</th>\n",
       "      <td>750868782890057730</td>\n",
       "      <td>1595</td>\n",
       "      <td>5306</td>\n",
       "    </tr>\n",
       "  </tbody>\n",
       "</table>\n",
       "</div>"
      ],
      "text/plain": [
       "                tweet_id  retweet_count  favorite_count\n",
       "2024  671879137494245376            748            1507\n",
       "643   793180763617361921           2310            7740\n",
       "960   750868782890057730           1595            5306"
      ]
     },
     "execution_count": 7,
     "metadata": {},
     "output_type": "execute_result"
    }
   ],
   "source": [
    "more_data = []\n",
    "\n",
    "with open('tweet-json.txt') as f: \n",
    "    for line in f:\n",
    "        tweets = json.loads(line)\n",
    "        tweet_id = tweets['id']\n",
    "        retweet_count = tweets['retweet_count']\n",
    "        favorite_count = tweets['favorite_count']\n",
    "        more_data.append({'tweet_id' : tweet_id,\n",
    "                          'retweet_count' : retweet_count,\n",
    "                          'favorite_count' : favorite_count})\n",
    "        \n",
    "# Create the DataFrame    \n",
    "counts = pd.DataFrame(more_data)\n",
    "counts.sample(3)"
   ]
  },
  {
   "cell_type": "markdown",
   "metadata": {
    "extensions": {
     "jupyter_dashboards": {
      "version": 1,
      "views": {
       "grid_default": {
        "col": 4,
        "height": 4,
        "hidden": false,
        "row": 28,
        "width": 4
       },
       "report_default": {
        "hidden": false
       }
      }
     }
    }
   },
   "source": [
    "## Assessing Data\n",
    "In this section, at least **eight (8) quality issues and two (2) tidiness issue** will be detected and analyzed.\n",
    "\n",
    "**Note:** Pay attention to the following key points.\n",
    "\n",
    "* I only want original ratings (no retweets) that have images. Though there are 5000+ tweets in the dataset, not all are dog ratings and some are retweets.\n",
    "* Assessing and cleaning the entire dataset completely would require a lot of time. Therefore, I will only assess and clean at least 8 quality issues and at least 2 tidiness issues in this dataset.\n",
    "* The fact that the rating numerators are greater than the denominators does not need to be cleaned. This [unique rating system](http://knowyourmeme.com/memes/theyre-good-dogs-brent) is a big part of the popularity of WeRateDogs.\n",
    "\n"
   ]
  },
  {
   "cell_type": "code",
   "execution_count": 8,
   "metadata": {},
   "outputs": [
    {
     "name": "stdout",
     "output_type": "stream",
     "text": [
      "<class 'pandas.core.frame.DataFrame'>\n",
      "RangeIndex: 2356 entries, 0 to 2355\n",
      "Data columns (total 17 columns):\n",
      " #   Column                      Non-Null Count  Dtype  \n",
      "---  ------                      --------------  -----  \n",
      " 0   tweet_id                    2356 non-null   int64  \n",
      " 1   in_reply_to_status_id       78 non-null     float64\n",
      " 2   in_reply_to_user_id         78 non-null     float64\n",
      " 3   timestamp                   2356 non-null   object \n",
      " 4   source                      2356 non-null   object \n",
      " 5   text                        2356 non-null   object \n",
      " 6   retweeted_status_id         181 non-null    float64\n",
      " 7   retweeted_status_user_id    181 non-null    float64\n",
      " 8   retweeted_status_timestamp  181 non-null    object \n",
      " 9   expanded_urls               2297 non-null   object \n",
      " 10  rating_numerator            2356 non-null   int64  \n",
      " 11  rating_denominator          2356 non-null   int64  \n",
      " 12  name                        2356 non-null   object \n",
      " 13  doggo                       2356 non-null   object \n",
      " 14  floofer                     2356 non-null   object \n",
      " 15  pupper                      2356 non-null   object \n",
      " 16  puppo                       2356 non-null   object \n",
      "dtypes: float64(4), int64(3), object(10)\n",
      "memory usage: 313.0+ KB\n"
     ]
    }
   ],
   "source": [
    "archive.info()"
   ]
  },
  {
   "cell_type": "code",
   "execution_count": 9,
   "metadata": {},
   "outputs": [
    {
     "name": "stdout",
     "output_type": "stream",
     "text": [
      "There are 2356 observations and 17 variables in the archive dataset. \n",
      "\n",
      "There are 7 numerical variables in this dataset such as tweet_id, in_reply_to_status_id, in_reply_to_user_id, retweeted_status_id, retweeted_status_user_id... \n",
      "\n",
      "There are 10 categorical variables in this dataset such as timestamp, source, text, retweeted_status_timestamp, expanded_urls... \n",
      "\n"
     ]
    }
   ],
   "source": [
    "print(\"There are {} observations and {} variables in the archive dataset. \\n\".format(archive.shape[0], archive.shape[1]))\n",
    "\n",
    "print(\"There are {} numerical variables in this dataset such as {}... \\n\".format(len(archive.select_dtypes(['float', 'int']).columns),\n",
    "                                                                           \", \".join(list(archive.select_dtypes(['float', 'int']).columns)[0:5])))\n",
    "\n",
    "print(\"There are {} categorical variables in this dataset such as {}... \\n\".format(len(archive.select_dtypes(['object']).columns),\n",
    "                                                                           \", \".join(list(archive.select_dtypes(['object']).columns)[0:5])))"
   ]
  },
  {
   "cell_type": "markdown",
   "metadata": {},
   "source": [
    "### Quality issues\n",
    "**`archive`** table\n",
    "1. Some tweets are dog ratings while some are retweets. \n",
    "\n",
    "2. The *`timestamp`* column has object data type instead of the correct datetime format.\n",
    "\n",
    "3. The *`source`* links contain HTML residues.\n",
    "\n",
    "4. There are many invalid *`name`* values such as 'a', 'an', 'very', and 'unacceptable'.\n",
    "\n",
    "5. Some tweets include new line characters '\\n'. An example can be found by querying the tweet_id 872820683541237760.\n",
    "\n",
    "6. Each *`text`* value consists of link(s) to the dog's photo, which are duplicates of the *`expanded_urls`* column.\n",
    "\n",
    "7. There are three missing *`expanded_urls`*.\n",
    "\n",
    "8. NaN should be used as a placeholder for missing data consistently instead of 'None'."
   ]
  },
  {
   "cell_type": "markdown",
   "metadata": {
    "extensions": {
     "jupyter_dashboards": {
      "version": 1,
      "views": {
       "grid_default": {
        "col": 0,
        "height": 7,
        "hidden": false,
        "row": 40,
        "width": 12
       },
       "report_default": {
        "hidden": false
       }
      }
     }
    }
   },
   "source": [
    "### Tidiness issues\n",
    "**`archive`** table\n",
    "\n",
    "1. The *`doggo`*, *`floofer`*, *`pupper`*, and *`puppo`* column headers represent one single variable (stage of the dog) and should be listed as row values in a single column.\n",
    "\n",
    "**`counts`** and **`images`** tables\n",
    "\n",
    "2. **`counts`**'s *`retweet_count`* and *`favorite_count`* columns should be part of **`archive`**. A *`breed`* variable can be generated from **`images`** for **`archive`** as well."
   ]
  },
  {
   "cell_type": "markdown",
   "metadata": {
    "extensions": {
     "jupyter_dashboards": {
      "version": 1,
      "views": {
       "grid_default": {
        "col": 4,
        "height": 4,
        "hidden": false,
        "row": 32,
        "width": 4
       },
       "report_default": {
        "hidden": false
       }
      }
     }
    }
   },
   "source": [
    "## Cleaning Data\n",
    "In this section, **all** of the issues documented will be cleaned while assessing. "
   ]
  },
  {
   "cell_type": "code",
   "execution_count": 10,
   "metadata": {},
   "outputs": [
    {
     "data": {
      "text/html": [
       "<div>\n",
       "<style scoped>\n",
       "    .dataframe tbody tr th:only-of-type {\n",
       "        vertical-align: middle;\n",
       "    }\n",
       "\n",
       "    .dataframe tbody tr th {\n",
       "        vertical-align: top;\n",
       "    }\n",
       "\n",
       "    .dataframe thead th {\n",
       "        text-align: right;\n",
       "    }\n",
       "</style>\n",
       "<table border=\"1\" class=\"dataframe\">\n",
       "  <thead>\n",
       "    <tr style=\"text-align: right;\">\n",
       "      <th></th>\n",
       "      <th>tweet_id</th>\n",
       "      <th>in_reply_to_status_id</th>\n",
       "      <th>in_reply_to_user_id</th>\n",
       "      <th>timestamp</th>\n",
       "      <th>source</th>\n",
       "      <th>text</th>\n",
       "      <th>retweeted_status_id</th>\n",
       "      <th>retweeted_status_user_id</th>\n",
       "      <th>retweeted_status_timestamp</th>\n",
       "      <th>expanded_urls</th>\n",
       "      <th>rating_numerator</th>\n",
       "      <th>rating_denominator</th>\n",
       "      <th>name</th>\n",
       "      <th>doggo</th>\n",
       "      <th>floofer</th>\n",
       "      <th>pupper</th>\n",
       "      <th>puppo</th>\n",
       "    </tr>\n",
       "  </thead>\n",
       "  <tbody>\n",
       "    <tr>\n",
       "      <th>1976</th>\n",
       "      <td>672995267319328768</td>\n",
       "      <td>NaN</td>\n",
       "      <td>NaN</td>\n",
       "      <td>2015-12-05 04:25:50 +0000</td>\n",
       "      <td>&lt;a href=\"http://twitter.com/download/iphone\" r...</td>\n",
       "      <td>This is Pumpkin. He can look in two different ...</td>\n",
       "      <td>NaN</td>\n",
       "      <td>NaN</td>\n",
       "      <td>NaN</td>\n",
       "      <td>https://twitter.com/dog_rates/status/672995267...</td>\n",
       "      <td>8</td>\n",
       "      <td>10</td>\n",
       "      <td>Pumpkin</td>\n",
       "      <td>None</td>\n",
       "      <td>None</td>\n",
       "      <td>None</td>\n",
       "      <td>None</td>\n",
       "    </tr>\n",
       "    <tr>\n",
       "      <th>897</th>\n",
       "      <td>759047813560868866</td>\n",
       "      <td>NaN</td>\n",
       "      <td>NaN</td>\n",
       "      <td>2016-07-29 15:27:55 +0000</td>\n",
       "      <td>&lt;a href=\"http://twitter.com/download/iphone\" r...</td>\n",
       "      <td>This is Spencer. He's part of the Queen's Guar...</td>\n",
       "      <td>NaN</td>\n",
       "      <td>NaN</td>\n",
       "      <td>NaN</td>\n",
       "      <td>https://twitter.com/dog_rates/status/759047813...</td>\n",
       "      <td>11</td>\n",
       "      <td>10</td>\n",
       "      <td>Spencer</td>\n",
       "      <td>None</td>\n",
       "      <td>None</td>\n",
       "      <td>None</td>\n",
       "      <td>None</td>\n",
       "    </tr>\n",
       "    <tr>\n",
       "      <th>140</th>\n",
       "      <td>865006731092295680</td>\n",
       "      <td>NaN</td>\n",
       "      <td>NaN</td>\n",
       "      <td>2017-05-18 00:50:50 +0000</td>\n",
       "      <td>&lt;a href=\"http://twitter.com/download/iphone\" r...</td>\n",
       "      <td>This is Nelly. He really hopes you like his Ha...</td>\n",
       "      <td>NaN</td>\n",
       "      <td>NaN</td>\n",
       "      <td>NaN</td>\n",
       "      <td>https://twitter.com/dog_rates/status/865006731...</td>\n",
       "      <td>13</td>\n",
       "      <td>10</td>\n",
       "      <td>Nelly</td>\n",
       "      <td>None</td>\n",
       "      <td>None</td>\n",
       "      <td>None</td>\n",
       "      <td>None</td>\n",
       "    </tr>\n",
       "  </tbody>\n",
       "</table>\n",
       "</div>"
      ],
      "text/plain": [
       "                tweet_id  in_reply_to_status_id  in_reply_to_user_id  \\\n",
       "1976  672995267319328768                    NaN                  NaN   \n",
       "897   759047813560868866                    NaN                  NaN   \n",
       "140   865006731092295680                    NaN                  NaN   \n",
       "\n",
       "                      timestamp  \\\n",
       "1976  2015-12-05 04:25:50 +0000   \n",
       "897   2016-07-29 15:27:55 +0000   \n",
       "140   2017-05-18 00:50:50 +0000   \n",
       "\n",
       "                                                 source  \\\n",
       "1976  <a href=\"http://twitter.com/download/iphone\" r...   \n",
       "897   <a href=\"http://twitter.com/download/iphone\" r...   \n",
       "140   <a href=\"http://twitter.com/download/iphone\" r...   \n",
       "\n",
       "                                                   text  retweeted_status_id  \\\n",
       "1976  This is Pumpkin. He can look in two different ...                  NaN   \n",
       "897   This is Spencer. He's part of the Queen's Guar...                  NaN   \n",
       "140   This is Nelly. He really hopes you like his Ha...                  NaN   \n",
       "\n",
       "      retweeted_status_user_id retweeted_status_timestamp  \\\n",
       "1976                       NaN                        NaN   \n",
       "897                        NaN                        NaN   \n",
       "140                        NaN                        NaN   \n",
       "\n",
       "                                          expanded_urls  rating_numerator  \\\n",
       "1976  https://twitter.com/dog_rates/status/672995267...                 8   \n",
       "897   https://twitter.com/dog_rates/status/759047813...                11   \n",
       "140   https://twitter.com/dog_rates/status/865006731...                13   \n",
       "\n",
       "      rating_denominator     name doggo floofer pupper puppo  \n",
       "1976                  10  Pumpkin  None    None   None  None  \n",
       "897                   10  Spencer  None    None   None  None  \n",
       "140                   10    Nelly  None    None   None  None  "
      ]
     },
     "execution_count": 10,
     "metadata": {},
     "output_type": "execute_result"
    }
   ],
   "source": [
    "# Make copies of original pieces of data\n",
    "clean_archive = archive.copy()\n",
    "clean_archive.sample(3)"
   ]
  },
  {
   "cell_type": "markdown",
   "metadata": {},
   "source": [
    "### Issue #1:"
   ]
  },
  {
   "cell_type": "markdown",
   "metadata": {},
   "source": [
    "#### Define:\n",
    "\n",
    "In the **`clean_archive`** dataset, drop all rows where there are non-null values in the *`in_reply_to_status_id`* or *`retweeted_status_id`*. After that, remove such columns plus *`retweeted_status_user_id`*, *`in_reply_to_user_id`*, and *`retweeted_status_timestamp`*."
   ]
  },
  {
   "cell_type": "markdown",
   "metadata": {},
   "source": [
    "#### Code"
   ]
  },
  {
   "cell_type": "code",
   "execution_count": 11,
   "metadata": {},
   "outputs": [],
   "source": [
    "# Drop non-null values\n",
    "rows_to_drop = clean_archive[(clean_archive['in_reply_to_status_id'].notnull()) | (clean_archive['retweeted_status_id'].notnull())]['tweet_id']\n",
    "clean_archive.drop(clean_archive[clean_archive['tweet_id'].isin(rows_to_drop)].index, axis=0, inplace=True)"
   ]
  },
  {
   "cell_type": "code",
   "execution_count": 12,
   "metadata": {},
   "outputs": [],
   "source": [
    "# Drop columns\n",
    "columns_to_drop = ['in_reply_to_status_id', 'retweeted_status_id', 'retweeted_status_user_id', 'in_reply_to_user_id', 'retweeted_status_timestamp']\n",
    "clean_archive.drop(columns_to_drop, axis=1, inplace=True)"
   ]
  },
  {
   "cell_type": "markdown",
   "metadata": {},
   "source": [
    "#### Test"
   ]
  },
  {
   "cell_type": "code",
   "execution_count": 13,
   "metadata": {},
   "outputs": [
    {
     "data": {
      "text/html": [
       "<div>\n",
       "<style scoped>\n",
       "    .dataframe tbody tr th:only-of-type {\n",
       "        vertical-align: middle;\n",
       "    }\n",
       "\n",
       "    .dataframe tbody tr th {\n",
       "        vertical-align: top;\n",
       "    }\n",
       "\n",
       "    .dataframe thead th {\n",
       "        text-align: right;\n",
       "    }\n",
       "</style>\n",
       "<table border=\"1\" class=\"dataframe\">\n",
       "  <thead>\n",
       "    <tr style=\"text-align: right;\">\n",
       "      <th></th>\n",
       "      <th>tweet_id</th>\n",
       "      <th>timestamp</th>\n",
       "      <th>source</th>\n",
       "      <th>text</th>\n",
       "      <th>expanded_urls</th>\n",
       "      <th>rating_numerator</th>\n",
       "      <th>rating_denominator</th>\n",
       "      <th>name</th>\n",
       "      <th>doggo</th>\n",
       "      <th>floofer</th>\n",
       "      <th>pupper</th>\n",
       "      <th>puppo</th>\n",
       "    </tr>\n",
       "  </thead>\n",
       "  <tbody>\n",
       "    <tr>\n",
       "      <th>1707</th>\n",
       "      <td>680801747103793152</td>\n",
       "      <td>2015-12-26 17:25:59 +0000</td>\n",
       "      <td>&lt;a href=\"http://twitter.com/download/iphone\" r...</td>\n",
       "      <td>Great picture here. Dog on the right panicked ...</td>\n",
       "      <td>https://twitter.com/dog_rates/status/680801747...</td>\n",
       "      <td>10</td>\n",
       "      <td>10</td>\n",
       "      <td>None</td>\n",
       "      <td>None</td>\n",
       "      <td>None</td>\n",
       "      <td>None</td>\n",
       "      <td>None</td>\n",
       "    </tr>\n",
       "    <tr>\n",
       "      <th>1213</th>\n",
       "      <td>715220193576927233</td>\n",
       "      <td>2016-03-30 16:52:36 +0000</td>\n",
       "      <td>&lt;a href=\"http://twitter.com/download/iphone\" r...</td>\n",
       "      <td>This is Nico. His selfie game is strong af. Ex...</td>\n",
       "      <td>https://twitter.com/dog_rates/status/715220193...</td>\n",
       "      <td>10</td>\n",
       "      <td>10</td>\n",
       "      <td>Nico</td>\n",
       "      <td>None</td>\n",
       "      <td>None</td>\n",
       "      <td>None</td>\n",
       "      <td>None</td>\n",
       "    </tr>\n",
       "    <tr>\n",
       "      <th>534</th>\n",
       "      <td>807106840509214720</td>\n",
       "      <td>2016-12-09 06:17:20 +0000</td>\n",
       "      <td>&lt;a href=\"http://twitter.com/download/iphone\" r...</td>\n",
       "      <td>This is Stephan. He just wants to help. 13/10 ...</td>\n",
       "      <td>https://twitter.com/dog_rates/status/807106840...</td>\n",
       "      <td>13</td>\n",
       "      <td>10</td>\n",
       "      <td>Stephan</td>\n",
       "      <td>None</td>\n",
       "      <td>None</td>\n",
       "      <td>None</td>\n",
       "      <td>None</td>\n",
       "    </tr>\n",
       "  </tbody>\n",
       "</table>\n",
       "</div>"
      ],
      "text/plain": [
       "                tweet_id                  timestamp  \\\n",
       "1707  680801747103793152  2015-12-26 17:25:59 +0000   \n",
       "1213  715220193576927233  2016-03-30 16:52:36 +0000   \n",
       "534   807106840509214720  2016-12-09 06:17:20 +0000   \n",
       "\n",
       "                                                 source  \\\n",
       "1707  <a href=\"http://twitter.com/download/iphone\" r...   \n",
       "1213  <a href=\"http://twitter.com/download/iphone\" r...   \n",
       "534   <a href=\"http://twitter.com/download/iphone\" r...   \n",
       "\n",
       "                                                   text  \\\n",
       "1707  Great picture here. Dog on the right panicked ...   \n",
       "1213  This is Nico. His selfie game is strong af. Ex...   \n",
       "534   This is Stephan. He just wants to help. 13/10 ...   \n",
       "\n",
       "                                          expanded_urls  rating_numerator  \\\n",
       "1707  https://twitter.com/dog_rates/status/680801747...                10   \n",
       "1213  https://twitter.com/dog_rates/status/715220193...                10   \n",
       "534   https://twitter.com/dog_rates/status/807106840...                13   \n",
       "\n",
       "      rating_denominator     name doggo floofer pupper puppo  \n",
       "1707                  10     None  None    None   None  None  \n",
       "1213                  10     Nico  None    None   None  None  \n",
       "534                   10  Stephan  None    None   None  None  "
      ]
     },
     "execution_count": 13,
     "metadata": {},
     "output_type": "execute_result"
    }
   ],
   "source": [
    "clean_archive.sample(3)"
   ]
  },
  {
   "cell_type": "markdown",
   "metadata": {},
   "source": [
    "### Issue #2:"
   ]
  },
  {
   "cell_type": "markdown",
   "metadata": {
    "extensions": {
     "jupyter_dashboards": {
      "version": 1,
      "views": {
       "grid_default": {
        "hidden": true
       },
       "report_default": {
        "hidden": true
       }
      }
     }
    }
   },
   "source": [
    "#### Define\n",
    "\n",
    "Convert *`timestamp`*'s data type in **`clean_archive`** table from object to datetime format."
   ]
  },
  {
   "cell_type": "markdown",
   "metadata": {},
   "source": [
    "#### Code"
   ]
  },
  {
   "cell_type": "code",
   "execution_count": 14,
   "metadata": {},
   "outputs": [],
   "source": [
    "clean_archive['timestamp'] = pd.to_datetime(clean_archive['timestamp'])"
   ]
  },
  {
   "cell_type": "markdown",
   "metadata": {},
   "source": [
    "#### Test"
   ]
  },
  {
   "cell_type": "code",
   "execution_count": 15,
   "metadata": {},
   "outputs": [
    {
     "data": {
      "text/plain": [
       "Timedelta('624 days 17:51:48')"
      ]
     },
     "execution_count": 15,
     "metadata": {},
     "output_type": "execute_result"
    }
   ],
   "source": [
    "# Test by calculating the overall timespand of the archive\n",
    "clean_archive['timestamp'].max() - clean_archive['timestamp'].min()"
   ]
  },
  {
   "cell_type": "code",
   "execution_count": 16,
   "metadata": {},
   "outputs": [
    {
     "name": "stdout",
     "output_type": "stream",
     "text": [
      "<class 'pandas.core.frame.DataFrame'>\n",
      "Int64Index: 2097 entries, 0 to 2355\n",
      "Data columns (total 12 columns):\n",
      " #   Column              Non-Null Count  Dtype              \n",
      "---  ------              --------------  -----              \n",
      " 0   tweet_id            2097 non-null   int64              \n",
      " 1   timestamp           2097 non-null   datetime64[ns, UTC]\n",
      " 2   source              2097 non-null   object             \n",
      " 3   text                2097 non-null   object             \n",
      " 4   expanded_urls       2094 non-null   object             \n",
      " 5   rating_numerator    2097 non-null   int64              \n",
      " 6   rating_denominator  2097 non-null   int64              \n",
      " 7   name                2097 non-null   object             \n",
      " 8   doggo               2097 non-null   object             \n",
      " 9   floofer             2097 non-null   object             \n",
      " 10  pupper              2097 non-null   object             \n",
      " 11  puppo               2097 non-null   object             \n",
      "dtypes: datetime64[ns, UTC](1), int64(3), object(8)\n",
      "memory usage: 213.0+ KB\n"
     ]
    }
   ],
   "source": [
    "clean_archive.info()"
   ]
  },
  {
   "cell_type": "markdown",
   "metadata": {},
   "source": [
    "### Issue #3:"
   ]
  },
  {
   "cell_type": "markdown",
   "metadata": {
    "extensions": {
     "jupyter_dashboards": {
      "version": 1,
      "views": {
       "grid_default": {
        "hidden": true
       },
       "report_default": {
        "hidden": true
       }
      }
     }
    }
   },
   "source": [
    "#### Define\n",
    "\n",
    "Extract the hyperlinks without the HTML format from the *`source`* column using regular expressions and pandas' `str.replace` and `str.extract` methods. Drop the *`source`* column when done."
   ]
  },
  {
   "cell_type": "markdown",
   "metadata": {},
   "source": [
    "#### Code"
   ]
  },
  {
   "cell_type": "code",
   "execution_count": 17,
   "metadata": {},
   "outputs": [
    {
     "data": {
      "text/html": [
       "<div>\n",
       "<style scoped>\n",
       "    .dataframe tbody tr th:only-of-type {\n",
       "        vertical-align: middle;\n",
       "    }\n",
       "\n",
       "    .dataframe tbody tr th {\n",
       "        vertical-align: top;\n",
       "    }\n",
       "\n",
       "    .dataframe thead th {\n",
       "        text-align: right;\n",
       "    }\n",
       "</style>\n",
       "<table border=\"1\" class=\"dataframe\">\n",
       "  <thead>\n",
       "    <tr style=\"text-align: right;\">\n",
       "      <th></th>\n",
       "      <th>tweet_id</th>\n",
       "      <th>timestamp</th>\n",
       "      <th>source</th>\n",
       "      <th>text</th>\n",
       "      <th>expanded_urls</th>\n",
       "      <th>rating_numerator</th>\n",
       "      <th>rating_denominator</th>\n",
       "      <th>name</th>\n",
       "      <th>doggo</th>\n",
       "      <th>floofer</th>\n",
       "      <th>pupper</th>\n",
       "      <th>puppo</th>\n",
       "    </tr>\n",
       "  </thead>\n",
       "  <tbody>\n",
       "    <tr>\n",
       "      <th>2350</th>\n",
       "      <td>666050758794694657</td>\n",
       "      <td>2015-11-16 00:30:50+00:00</td>\n",
       "      <td>http://twitter.com/download/iphone</td>\n",
       "      <td>This is a truly beautiful English Wilson Staff...</td>\n",
       "      <td>https://twitter.com/dog_rates/status/666050758...</td>\n",
       "      <td>10</td>\n",
       "      <td>10</td>\n",
       "      <td>a</td>\n",
       "      <td>None</td>\n",
       "      <td>None</td>\n",
       "      <td>None</td>\n",
       "      <td>None</td>\n",
       "    </tr>\n",
       "    <tr>\n",
       "      <th>43</th>\n",
       "      <td>884162670584377345</td>\n",
       "      <td>2017-07-09 21:29:42+00:00</td>\n",
       "      <td>http://twitter.com/download/iphone</td>\n",
       "      <td>Meet Yogi. He doesn't have any important dog m...</td>\n",
       "      <td>https://twitter.com/dog_rates/status/884162670...</td>\n",
       "      <td>12</td>\n",
       "      <td>10</td>\n",
       "      <td>Yogi</td>\n",
       "      <td>doggo</td>\n",
       "      <td>None</td>\n",
       "      <td>None</td>\n",
       "      <td>None</td>\n",
       "    </tr>\n",
       "    <tr>\n",
       "      <th>1738</th>\n",
       "      <td>679527802031484928</td>\n",
       "      <td>2015-12-23 05:03:47+00:00</td>\n",
       "      <td>http://twitter.com/download/iphone</td>\n",
       "      <td>This little pupper just arrived. 11/10 would s...</td>\n",
       "      <td>https://twitter.com/dog_rates/status/679527802...</td>\n",
       "      <td>11</td>\n",
       "      <td>10</td>\n",
       "      <td>None</td>\n",
       "      <td>None</td>\n",
       "      <td>None</td>\n",
       "      <td>pupper</td>\n",
       "      <td>None</td>\n",
       "    </tr>\n",
       "  </tbody>\n",
       "</table>\n",
       "</div>"
      ],
      "text/plain": [
       "                tweet_id                 timestamp  \\\n",
       "2350  666050758794694657 2015-11-16 00:30:50+00:00   \n",
       "43    884162670584377345 2017-07-09 21:29:42+00:00   \n",
       "1738  679527802031484928 2015-12-23 05:03:47+00:00   \n",
       "\n",
       "                                  source  \\\n",
       "2350  http://twitter.com/download/iphone   \n",
       "43    http://twitter.com/download/iphone   \n",
       "1738  http://twitter.com/download/iphone   \n",
       "\n",
       "                                                   text  \\\n",
       "2350  This is a truly beautiful English Wilson Staff...   \n",
       "43    Meet Yogi. He doesn't have any important dog m...   \n",
       "1738  This little pupper just arrived. 11/10 would s...   \n",
       "\n",
       "                                          expanded_urls  rating_numerator  \\\n",
       "2350  https://twitter.com/dog_rates/status/666050758...                10   \n",
       "43    https://twitter.com/dog_rates/status/884162670...                12   \n",
       "1738  https://twitter.com/dog_rates/status/679527802...                11   \n",
       "\n",
       "      rating_denominator  name  doggo floofer  pupper puppo  \n",
       "2350                  10     a   None    None    None  None  \n",
       "43                    10  Yogi  doggo    None    None  None  \n",
       "1738                  10  None   None    None  pupper  None  "
      ]
     },
     "execution_count": 17,
     "metadata": {},
     "output_type": "execute_result"
    }
   ],
   "source": [
    "clean_archive['source'] = clean_archive['source'].str.replace(r'\"', '').str.extract(r'(https?://[^ ]+)')\n",
    "clean_archive.sample(3)"
   ]
  },
  {
   "cell_type": "markdown",
   "metadata": {},
   "source": [
    "#### Test"
   ]
  },
  {
   "cell_type": "code",
   "execution_count": 18,
   "metadata": {},
   "outputs": [
    {
     "data": {
      "text/plain": [
       "http://twitter.com/download/iphone              1964\n",
       "http://vine.co                                    91\n",
       "http://twitter.com                                31\n",
       "https://about.twitter.com/products/tweetdeck      11\n",
       "Name: source, dtype: int64"
      ]
     },
     "execution_count": 18,
     "metadata": {},
     "output_type": "execute_result"
    }
   ],
   "source": [
    "clean_archive['source'].value_counts()"
   ]
  },
  {
   "cell_type": "markdown",
   "metadata": {},
   "source": [
    "### Issue #4:"
   ]
  },
  {
   "cell_type": "markdown",
   "metadata": {},
   "source": [
    "#### Define"
   ]
  },
  {
   "cell_type": "markdown",
   "metadata": {},
   "source": [
    "Replace invalid *`name`* values with 'None'."
   ]
  },
  {
   "cell_type": "markdown",
   "metadata": {},
   "source": [
    "#### Code"
   ]
  },
  {
   "cell_type": "code",
   "execution_count": 19,
   "metadata": {},
   "outputs": [],
   "source": [
    "# Make a list of names in lower case\n",
    "not_names = list(clean_archive[clean_archive['name'].str.islower()]['name'])"
   ]
  },
  {
   "cell_type": "code",
   "execution_count": 20,
   "metadata": {},
   "outputs": [],
   "source": [
    "# Replace names in the above list with nulls\n",
    "clean_archive['name'] = clean_archive['name'].replace(not_names, 'None')"
   ]
  },
  {
   "cell_type": "markdown",
   "metadata": {},
   "source": [
    "#### Test"
   ]
  },
  {
   "cell_type": "code",
   "execution_count": 21,
   "metadata": {},
   "outputs": [
    {
     "data": {
      "text/html": [
       "<div>\n",
       "<style scoped>\n",
       "    .dataframe tbody tr th:only-of-type {\n",
       "        vertical-align: middle;\n",
       "    }\n",
       "\n",
       "    .dataframe tbody tr th {\n",
       "        vertical-align: top;\n",
       "    }\n",
       "\n",
       "    .dataframe thead th {\n",
       "        text-align: right;\n",
       "    }\n",
       "</style>\n",
       "<table border=\"1\" class=\"dataframe\">\n",
       "  <thead>\n",
       "    <tr style=\"text-align: right;\">\n",
       "      <th></th>\n",
       "      <th>tweet_id</th>\n",
       "      <th>timestamp</th>\n",
       "      <th>source</th>\n",
       "      <th>text</th>\n",
       "      <th>expanded_urls</th>\n",
       "      <th>rating_numerator</th>\n",
       "      <th>rating_denominator</th>\n",
       "      <th>name</th>\n",
       "      <th>doggo</th>\n",
       "      <th>floofer</th>\n",
       "      <th>pupper</th>\n",
       "      <th>puppo</th>\n",
       "    </tr>\n",
       "  </thead>\n",
       "  <tbody>\n",
       "  </tbody>\n",
       "</table>\n",
       "</div>"
      ],
      "text/plain": [
       "Empty DataFrame\n",
       "Columns: [tweet_id, timestamp, source, text, expanded_urls, rating_numerator, rating_denominator, name, doggo, floofer, pupper, puppo]\n",
       "Index: []"
      ]
     },
     "execution_count": 21,
     "metadata": {},
     "output_type": "execute_result"
    }
   ],
   "source": [
    "clean_archive[clean_archive['name'] == 'unacceptable']"
   ]
  },
  {
   "cell_type": "code",
   "execution_count": 22,
   "metadata": {},
   "outputs": [
    {
     "data": {
      "text/plain": [
       "None          707\n",
       "Lucy           11\n",
       "Charlie        11\n",
       "Oliver         10\n",
       "Cooper         10\n",
       "             ... \n",
       "Shelby          1\n",
       "Sephie          1\n",
       "Bonaparte       1\n",
       "Wishes          1\n",
       "Christoper      1\n",
       "Name: name, Length: 930, dtype: int64"
      ]
     },
     "execution_count": 22,
     "metadata": {},
     "output_type": "execute_result"
    }
   ],
   "source": [
    "clean_archive['name'].value_counts()"
   ]
  },
  {
   "cell_type": "markdown",
   "metadata": {},
   "source": [
    "### Issues #5 & 6:"
   ]
  },
  {
   "cell_type": "markdown",
   "metadata": {},
   "source": [
    "#### Define"
   ]
  },
  {
   "cell_type": "markdown",
   "metadata": {},
   "source": [
    "Issues #5 & 6 will be tackled in one function:\n",
    "- Strip the new line character '\\n' in *`text`* and insert a space.\n",
    "- Replace the url with just the text itself.\n",
    "- Strip the extraneous space at the end of the line."
   ]
  },
  {
   "cell_type": "markdown",
   "metadata": {},
   "source": [
    "#### Code"
   ]
  },
  {
   "cell_type": "code",
   "execution_count": 23,
   "metadata": {},
   "outputs": [
    {
     "data": {
      "text/html": [
       "<div>\n",
       "<style scoped>\n",
       "    .dataframe tbody tr th:only-of-type {\n",
       "        vertical-align: middle;\n",
       "    }\n",
       "\n",
       "    .dataframe tbody tr th {\n",
       "        vertical-align: top;\n",
       "    }\n",
       "\n",
       "    .dataframe thead th {\n",
       "        text-align: right;\n",
       "    }\n",
       "</style>\n",
       "<table border=\"1\" class=\"dataframe\">\n",
       "  <thead>\n",
       "    <tr style=\"text-align: right;\">\n",
       "      <th></th>\n",
       "      <th>tweet_id</th>\n",
       "      <th>timestamp</th>\n",
       "      <th>source</th>\n",
       "      <th>text</th>\n",
       "      <th>expanded_urls</th>\n",
       "      <th>rating_numerator</th>\n",
       "      <th>rating_denominator</th>\n",
       "      <th>name</th>\n",
       "      <th>doggo</th>\n",
       "      <th>floofer</th>\n",
       "      <th>pupper</th>\n",
       "      <th>puppo</th>\n",
       "    </tr>\n",
       "  </thead>\n",
       "  <tbody>\n",
       "    <tr>\n",
       "      <th>100</th>\n",
       "      <td>872820683541237760</td>\n",
       "      <td>2017-06-08 14:20:41+00:00</td>\n",
       "      <td>http://twitter.com/download/iphone</td>\n",
       "      <td>Here are my favorite #dogsatpollingstations \\n...</td>\n",
       "      <td>https://twitter.com/dog_rates/status/872820683...</td>\n",
       "      <td>13</td>\n",
       "      <td>10</td>\n",
       "      <td>None</td>\n",
       "      <td>None</td>\n",
       "      <td>None</td>\n",
       "      <td>None</td>\n",
       "      <td>None</td>\n",
       "    </tr>\n",
       "  </tbody>\n",
       "</table>\n",
       "</div>"
      ],
      "text/plain": [
       "               tweet_id                 timestamp  \\\n",
       "100  872820683541237760 2017-06-08 14:20:41+00:00   \n",
       "\n",
       "                                 source  \\\n",
       "100  http://twitter.com/download/iphone   \n",
       "\n",
       "                                                  text  \\\n",
       "100  Here are my favorite #dogsatpollingstations \\n...   \n",
       "\n",
       "                                         expanded_urls  rating_numerator  \\\n",
       "100  https://twitter.com/dog_rates/status/872820683...                13   \n",
       "\n",
       "     rating_denominator  name doggo floofer pupper puppo  \n",
       "100                  10  None  None    None   None  None  "
      ]
     },
     "execution_count": 23,
     "metadata": {},
     "output_type": "execute_result"
    }
   ],
   "source": [
    "clean_archive[clean_archive['tweet_id'] == 872820683541237760]"
   ]
  },
  {
   "cell_type": "code",
   "execution_count": 24,
   "metadata": {},
   "outputs": [],
   "source": [
    "# Write a function to clean all text in a column\n",
    "def clean(text):\n",
    "    text = text.replace('\\n', '')\n",
    "    text = re.sub(r'https?://[^ ]+', '', text)\n",
    "    text = text.strip()\n",
    "    return text \n",
    "    \n",
    "clean_archive['text'] = clean_archive['text'].apply(clean)"
   ]
  },
  {
   "cell_type": "markdown",
   "metadata": {},
   "source": [
    "#### Test"
   ]
  },
  {
   "cell_type": "code",
   "execution_count": 25,
   "metadata": {},
   "outputs": [
    {
     "data": {
      "text/html": [
       "<div>\n",
       "<style scoped>\n",
       "    .dataframe tbody tr th:only-of-type {\n",
       "        vertical-align: middle;\n",
       "    }\n",
       "\n",
       "    .dataframe tbody tr th {\n",
       "        vertical-align: top;\n",
       "    }\n",
       "\n",
       "    .dataframe thead th {\n",
       "        text-align: right;\n",
       "    }\n",
       "</style>\n",
       "<table border=\"1\" class=\"dataframe\">\n",
       "  <thead>\n",
       "    <tr style=\"text-align: right;\">\n",
       "      <th></th>\n",
       "      <th>tweet_id</th>\n",
       "      <th>timestamp</th>\n",
       "      <th>source</th>\n",
       "      <th>text</th>\n",
       "      <th>expanded_urls</th>\n",
       "      <th>rating_numerator</th>\n",
       "      <th>rating_denominator</th>\n",
       "      <th>name</th>\n",
       "      <th>doggo</th>\n",
       "      <th>floofer</th>\n",
       "      <th>pupper</th>\n",
       "      <th>puppo</th>\n",
       "    </tr>\n",
       "  </thead>\n",
       "  <tbody>\n",
       "    <tr>\n",
       "      <th>100</th>\n",
       "      <td>872820683541237760</td>\n",
       "      <td>2017-06-08 14:20:41+00:00</td>\n",
       "      <td>http://twitter.com/download/iphone</td>\n",
       "      <td>Here are my favorite #dogsatpollingstations Mo...</td>\n",
       "      <td>https://twitter.com/dog_rates/status/872820683...</td>\n",
       "      <td>13</td>\n",
       "      <td>10</td>\n",
       "      <td>None</td>\n",
       "      <td>None</td>\n",
       "      <td>None</td>\n",
       "      <td>None</td>\n",
       "      <td>None</td>\n",
       "    </tr>\n",
       "  </tbody>\n",
       "</table>\n",
       "</div>"
      ],
      "text/plain": [
       "               tweet_id                 timestamp  \\\n",
       "100  872820683541237760 2017-06-08 14:20:41+00:00   \n",
       "\n",
       "                                 source  \\\n",
       "100  http://twitter.com/download/iphone   \n",
       "\n",
       "                                                  text  \\\n",
       "100  Here are my favorite #dogsatpollingstations Mo...   \n",
       "\n",
       "                                         expanded_urls  rating_numerator  \\\n",
       "100  https://twitter.com/dog_rates/status/872820683...                13   \n",
       "\n",
       "     rating_denominator  name doggo floofer pupper puppo  \n",
       "100                  10  None  None    None   None  None  "
      ]
     },
     "execution_count": 25,
     "metadata": {},
     "output_type": "execute_result"
    }
   ],
   "source": [
    "clean_archive[clean_archive['tweet_id'] == 872820683541237760]"
   ]
  },
  {
   "cell_type": "markdown",
   "metadata": {},
   "source": [
    "### Issue #7:"
   ]
  },
  {
   "cell_type": "markdown",
   "metadata": {},
   "source": [
    "#### Define"
   ]
  },
  {
   "cell_type": "markdown",
   "metadata": {},
   "source": [
    "Compute a new expanded_urls column and drop the original one with missing values."
   ]
  },
  {
   "cell_type": "markdown",
   "metadata": {},
   "source": [
    "#### Code"
   ]
  },
  {
   "cell_type": "code",
   "execution_count": 26,
   "metadata": {},
   "outputs": [],
   "source": [
    "# clean_archive['tweet_id'] = clean_archive['tweet_id'].astype(str)"
   ]
  },
  {
   "cell_type": "code",
   "execution_count": 27,
   "metadata": {},
   "outputs": [
    {
     "data": {
      "text/html": [
       "<div>\n",
       "<style scoped>\n",
       "    .dataframe tbody tr th:only-of-type {\n",
       "        vertical-align: middle;\n",
       "    }\n",
       "\n",
       "    .dataframe tbody tr th {\n",
       "        vertical-align: top;\n",
       "    }\n",
       "\n",
       "    .dataframe thead th {\n",
       "        text-align: right;\n",
       "    }\n",
       "</style>\n",
       "<table border=\"1\" class=\"dataframe\">\n",
       "  <thead>\n",
       "    <tr style=\"text-align: right;\">\n",
       "      <th></th>\n",
       "      <th>tweet_id</th>\n",
       "      <th>timestamp</th>\n",
       "      <th>source</th>\n",
       "      <th>text</th>\n",
       "      <th>expanded_urls</th>\n",
       "      <th>rating_numerator</th>\n",
       "      <th>rating_denominator</th>\n",
       "      <th>name</th>\n",
       "      <th>doggo</th>\n",
       "      <th>floofer</th>\n",
       "      <th>pupper</th>\n",
       "      <th>puppo</th>\n",
       "    </tr>\n",
       "  </thead>\n",
       "  <tbody>\n",
       "    <tr>\n",
       "      <th>375</th>\n",
       "      <td>828361771580813312</td>\n",
       "      <td>2017-02-05 21:56:51+00:00</td>\n",
       "      <td>http://twitter.com</td>\n",
       "      <td>Beebop and Doobert should start a band 12/10 w...</td>\n",
       "      <td>NaN</td>\n",
       "      <td>12</td>\n",
       "      <td>10</td>\n",
       "      <td>None</td>\n",
       "      <td>None</td>\n",
       "      <td>None</td>\n",
       "      <td>None</td>\n",
       "      <td>None</td>\n",
       "    </tr>\n",
       "    <tr>\n",
       "      <th>707</th>\n",
       "      <td>785515384317313025</td>\n",
       "      <td>2016-10-10 16:20:36+00:00</td>\n",
       "      <td>http://twitter.com/download/iphone</td>\n",
       "      <td>Today, 10/10, should be National Dog Rates Day</td>\n",
       "      <td>NaN</td>\n",
       "      <td>10</td>\n",
       "      <td>10</td>\n",
       "      <td>None</td>\n",
       "      <td>None</td>\n",
       "      <td>None</td>\n",
       "      <td>None</td>\n",
       "      <td>None</td>\n",
       "    </tr>\n",
       "    <tr>\n",
       "      <th>1445</th>\n",
       "      <td>696518437233913856</td>\n",
       "      <td>2016-02-08 02:18:30+00:00</td>\n",
       "      <td>http://twitter.com/download/iphone</td>\n",
       "      <td>Oh my god 10/10 for every little hot dog pupper</td>\n",
       "      <td>NaN</td>\n",
       "      <td>10</td>\n",
       "      <td>10</td>\n",
       "      <td>None</td>\n",
       "      <td>None</td>\n",
       "      <td>None</td>\n",
       "      <td>pupper</td>\n",
       "      <td>None</td>\n",
       "    </tr>\n",
       "  </tbody>\n",
       "</table>\n",
       "</div>"
      ],
      "text/plain": [
       "                tweet_id                 timestamp  \\\n",
       "375   828361771580813312 2017-02-05 21:56:51+00:00   \n",
       "707   785515384317313025 2016-10-10 16:20:36+00:00   \n",
       "1445  696518437233913856 2016-02-08 02:18:30+00:00   \n",
       "\n",
       "                                  source  \\\n",
       "375                   http://twitter.com   \n",
       "707   http://twitter.com/download/iphone   \n",
       "1445  http://twitter.com/download/iphone   \n",
       "\n",
       "                                                   text expanded_urls  \\\n",
       "375   Beebop and Doobert should start a band 12/10 w...           NaN   \n",
       "707      Today, 10/10, should be National Dog Rates Day           NaN   \n",
       "1445    Oh my god 10/10 for every little hot dog pupper           NaN   \n",
       "\n",
       "      rating_numerator  rating_denominator  name doggo floofer  pupper puppo  \n",
       "375                 12                  10  None  None    None    None  None  \n",
       "707                 10                  10  None  None    None    None  None  \n",
       "1445                10                  10  None  None    None  pupper  None  "
      ]
     },
     "execution_count": 27,
     "metadata": {},
     "output_type": "execute_result"
    }
   ],
   "source": [
    "# Filter for the tweets without an expanded url\n",
    "clean_archive[clean_archive['expanded_urls'].isna()]"
   ]
  },
  {
   "cell_type": "code",
   "execution_count": 28,
   "metadata": {},
   "outputs": [],
   "source": [
    "# Convert the tweet id into string for concatenation\n",
    "clean_archive['tweet_id'] = clean_archive['tweet_id'].astype(str)\n",
    "\n",
    "# Option 1: Use a function\n",
    "# def fill_url(row):\n",
    "#     for row in clean_archive['expanded_urls']:\n",
    "#         if row == np.NaN:\n",
    "#             row = 'https://twitter.com/dog_rates/status/' + clean_archive['tweet_id']\n",
    "#         else:\n",
    "#             return row\n",
    "\n",
    "# clean_archive['expanded_urls'] = clean_archive['expanded_urls'].apply(fill_url)\n",
    "\n",
    "# Option 2: Edit individually\n",
    "# Concanate part of the url with the corresponding tweet id\n",
    "clean_archive.loc[clean_archive['expanded_urls'].isna(), 'expanded_urls'] = 'https://twitter.com/dog_rates/status/' + clean_archive['tweet_id']"
   ]
  },
  {
   "cell_type": "markdown",
   "metadata": {},
   "source": [
    "#### Test"
   ]
  },
  {
   "cell_type": "code",
   "execution_count": 29,
   "metadata": {},
   "outputs": [
    {
     "data": {
      "text/html": [
       "<div>\n",
       "<style scoped>\n",
       "    .dataframe tbody tr th:only-of-type {\n",
       "        vertical-align: middle;\n",
       "    }\n",
       "\n",
       "    .dataframe tbody tr th {\n",
       "        vertical-align: top;\n",
       "    }\n",
       "\n",
       "    .dataframe thead th {\n",
       "        text-align: right;\n",
       "    }\n",
       "</style>\n",
       "<table border=\"1\" class=\"dataframe\">\n",
       "  <thead>\n",
       "    <tr style=\"text-align: right;\">\n",
       "      <th></th>\n",
       "      <th>tweet_id</th>\n",
       "      <th>timestamp</th>\n",
       "      <th>source</th>\n",
       "      <th>text</th>\n",
       "      <th>expanded_urls</th>\n",
       "      <th>rating_numerator</th>\n",
       "      <th>rating_denominator</th>\n",
       "      <th>name</th>\n",
       "      <th>doggo</th>\n",
       "      <th>floofer</th>\n",
       "      <th>pupper</th>\n",
       "      <th>puppo</th>\n",
       "    </tr>\n",
       "  </thead>\n",
       "  <tbody>\n",
       "    <tr>\n",
       "      <th>1445</th>\n",
       "      <td>696518437233913856</td>\n",
       "      <td>2016-02-08 02:18:30+00:00</td>\n",
       "      <td>http://twitter.com/download/iphone</td>\n",
       "      <td>Oh my god 10/10 for every little hot dog pupper</td>\n",
       "      <td>https://twitter.com/dog_rates/status/696518437...</td>\n",
       "      <td>10</td>\n",
       "      <td>10</td>\n",
       "      <td>None</td>\n",
       "      <td>None</td>\n",
       "      <td>None</td>\n",
       "      <td>pupper</td>\n",
       "      <td>None</td>\n",
       "    </tr>\n",
       "  </tbody>\n",
       "</table>\n",
       "</div>"
      ],
      "text/plain": [
       "                tweet_id                 timestamp  \\\n",
       "1445  696518437233913856 2016-02-08 02:18:30+00:00   \n",
       "\n",
       "                                  source  \\\n",
       "1445  http://twitter.com/download/iphone   \n",
       "\n",
       "                                                 text  \\\n",
       "1445  Oh my god 10/10 for every little hot dog pupper   \n",
       "\n",
       "                                          expanded_urls  rating_numerator  \\\n",
       "1445  https://twitter.com/dog_rates/status/696518437...                10   \n",
       "\n",
       "      rating_denominator  name doggo floofer  pupper puppo  \n",
       "1445                  10  None  None    None  pupper  None  "
      ]
     },
     "execution_count": 29,
     "metadata": {},
     "output_type": "execute_result"
    }
   ],
   "source": [
    "# Check if there is still any missing url\n",
    "clean_archive[clean_archive['tweet_id'] == '696518437233913856']"
   ]
  },
  {
   "cell_type": "markdown",
   "metadata": {},
   "source": [
    "### Issue #8:"
   ]
  },
  {
   "cell_type": "markdown",
   "metadata": {},
   "source": [
    "#### Define"
   ]
  },
  {
   "cell_type": "markdown",
   "metadata": {},
   "source": [
    "Combine the *`doggo`*, *`floofer`*, *`pupper`*, and *`puppo`* variables into a *`dog_stage`* column and drop the original variables."
   ]
  },
  {
   "cell_type": "markdown",
   "metadata": {},
   "source": [
    "#### Code"
   ]
  },
  {
   "cell_type": "code",
   "execution_count": 30,
   "metadata": {},
   "outputs": [],
   "source": [
    "# Create a dog stage column\n",
    "clean_archive['doggo'] = clean_archive['doggo'].replace('None', '')\n",
    "clean_archive['floofer'] = clean_archive['floofer'].replace('None', '')\n",
    "clean_archive['pupper'] = clean_archive['pupper'].replace('None', '')\n",
    "clean_archive['puppo'] = clean_archive['puppo'].replace('None', '')\n",
    "\n",
    "clean_archive['dog_stage'] = clean_archive['doggo'] + clean_archive['floofer'] + clean_archive['pupper'] + clean_archive['puppo']"
   ]
  },
  {
   "cell_type": "code",
   "execution_count": 31,
   "metadata": {},
   "outputs": [],
   "source": [
    "# Insert a comma to properly separate the multiple stages\n",
    "clean_archive.loc[clean_archive['dog_stage'] == 'doggopupper', 'dog_stage'] = 'doggo,pupper'\n",
    "clean_archive.loc[clean_archive['dog_stage'] == 'doggopuppo', 'dog_stage'] = 'doggo,puppo'\n",
    "clean_archive.loc[clean_archive['dog_stage'] == 'doggofloofer', 'dog_stage'] = 'doggo,floofer'"
   ]
  },
  {
   "cell_type": "code",
   "execution_count": 32,
   "metadata": {},
   "outputs": [],
   "source": [
    "# Convert white spaces representing unknown dog stage into nulls\n",
    "clean_archive.loc[clean_archive['dog_stage'] == '', 'dog_stage'] = 'None'"
   ]
  },
  {
   "cell_type": "code",
   "execution_count": 33,
   "metadata": {},
   "outputs": [],
   "source": [
    "# Drop the original stage columns\n",
    "clean_archive.drop(['doggo', 'floofer', 'pupper', 'puppo'], axis=1, inplace=True)"
   ]
  },
  {
   "cell_type": "markdown",
   "metadata": {},
   "source": [
    "#### Test"
   ]
  },
  {
   "cell_type": "code",
   "execution_count": 34,
   "metadata": {},
   "outputs": [
    {
     "data": {
      "text/plain": [
       "None             1761\n",
       "pupper            221\n",
       "doggo              72\n",
       "puppo              23\n",
       "floofer             9\n",
       "doggo,pupper        9\n",
       "doggo,puppo         1\n",
       "doggo,floofer       1\n",
       "Name: dog_stage, dtype: int64"
      ]
     },
     "execution_count": 34,
     "metadata": {},
     "output_type": "execute_result"
    }
   ],
   "source": [
    "clean_archive['dog_stage'].value_counts()"
   ]
  },
  {
   "cell_type": "code",
   "execution_count": 35,
   "metadata": {},
   "outputs": [
    {
     "name": "stdout",
     "output_type": "stream",
     "text": [
      "<class 'pandas.core.frame.DataFrame'>\n",
      "Int64Index: 2097 entries, 0 to 2355\n",
      "Data columns (total 9 columns):\n",
      " #   Column              Non-Null Count  Dtype              \n",
      "---  ------              --------------  -----              \n",
      " 0   tweet_id            2097 non-null   object             \n",
      " 1   timestamp           2097 non-null   datetime64[ns, UTC]\n",
      " 2   source              2097 non-null   object             \n",
      " 3   text                2097 non-null   object             \n",
      " 4   expanded_urls       2097 non-null   object             \n",
      " 5   rating_numerator    2097 non-null   int64              \n",
      " 6   rating_denominator  2097 non-null   int64              \n",
      " 7   name                2097 non-null   object             \n",
      " 8   dog_stage           2097 non-null   object             \n",
      "dtypes: datetime64[ns, UTC](1), int64(2), object(6)\n",
      "memory usage: 228.4+ KB\n"
     ]
    }
   ],
   "source": [
    "clean_archive.info()"
   ]
  },
  {
   "cell_type": "markdown",
   "metadata": {},
   "source": [
    "### Issue #9:"
   ]
  },
  {
   "cell_type": "markdown",
   "metadata": {},
   "source": [
    "#### Define"
   ]
  },
  {
   "cell_type": "markdown",
   "metadata": {},
   "source": [
    "Replace all rows that have 'None' with np.NaN for consistency."
   ]
  },
  {
   "cell_type": "markdown",
   "metadata": {},
   "source": [
    "#### Code"
   ]
  },
  {
   "cell_type": "code",
   "execution_count": 36,
   "metadata": {},
   "outputs": [],
   "source": [
    "clean_archive = clean_archive.replace('None', np.NaN)"
   ]
  },
  {
   "cell_type": "markdown",
   "metadata": {
    "tags": []
   },
   "source": [
    "#### Test"
   ]
  },
  {
   "cell_type": "code",
   "execution_count": 37,
   "metadata": {},
   "outputs": [
    {
     "data": {
      "text/plain": [
       "pupper           221\n",
       "doggo             72\n",
       "puppo             23\n",
       "floofer            9\n",
       "doggo,pupper       9\n",
       "doggo,puppo        1\n",
       "doggo,floofer      1\n",
       "Name: dog_stage, dtype: int64"
      ]
     },
     "execution_count": 37,
     "metadata": {},
     "output_type": "execute_result"
    }
   ],
   "source": [
    "# Test if there are still 'None' in any columns of object datatype\n",
    "clean_archive.dog_stage.value_counts()"
   ]
  },
  {
   "cell_type": "markdown",
   "metadata": {},
   "source": [
    "### Issue #10:"
   ]
  },
  {
   "cell_type": "markdown",
   "metadata": {},
   "source": [
    "#### Define"
   ]
  },
  {
   "cell_type": "markdown",
   "metadata": {},
   "source": [
    "Create *`breed`*, *`retweet_count`* and *`favorite_count`* columns in the **`clean_archive`** table as below:\n",
    "- First, for each tweet_id in the **`images`** table, check if its *`p1_conf`* is greater than 0.95 (i.e. 95% confidence interval) and *`p1_dog`* is True. If it is, set the value of *`p1_dog`* column in **`clean_archive`**'s *`breed`* column.\n",
    "- Then, fetch the *`retweet_count`* and *`favorite_count`* columns of the **`count`** table and assign those values to **`clean_archive`** table."
   ]
  },
  {
   "cell_type": "markdown",
   "metadata": {},
   "source": [
    "#### Code"
   ]
  },
  {
   "cell_type": "code",
   "execution_count": 38,
   "metadata": {},
   "outputs": [],
   "source": [
    "# Convert the tweet id column in the counts dataset into str before concatenation\n",
    "counts['tweet_id'] = counts['tweet_id'].astype(str)\n",
    "\n",
    "clean_archive = clean_archive.merge(counts, on='tweet_id', how='left')"
   ]
  },
  {
   "cell_type": "code",
   "execution_count": 39,
   "metadata": {},
   "outputs": [],
   "source": [
    "# Create breed column from the images dataset\n",
    "images['tweet_id'] = images['tweet_id'].astype(str)\n",
    "clean_archive = clean_archive.merge(images, on='tweet_id')\n",
    "clean_archive['breed'] = 'None'\n",
    "\n",
    "# # Iterate through all the rows of clean_archive\n",
    "for i, row in clean_archive.iterrows(): \n",
    "    #  Check if p1_conf is greater than 0.95 and p1_dog is True\n",
    "    if row['p1_dog'] == True:\n",
    "        clean_archive.at[i, 'breed'] = row['p1']\n",
    "\n",
    "# Drop other columns\n",
    "clean_archive.drop(['img_num', 'p1', 'p1_conf', 'p1_dog', 'p2', 'p2_conf', 'p2_dog', 'p3', 'p3_conf', 'p3_dog'], axis=1, inplace=True)\n",
    "clean_archive = clean_archive.replace('None', np.NaN)"
   ]
  },
  {
   "cell_type": "markdown",
   "metadata": {
    "tags": []
   },
   "source": [
    "#### Test"
   ]
  },
  {
   "cell_type": "code",
   "execution_count": 40,
   "metadata": {},
   "outputs": [
    {
     "name": "stdout",
     "output_type": "stream",
     "text": [
      "<class 'pandas.core.frame.DataFrame'>\n",
      "Int64Index: 1971 entries, 0 to 1970\n",
      "Data columns (total 13 columns):\n",
      " #   Column              Non-Null Count  Dtype              \n",
      "---  ------              --------------  -----              \n",
      " 0   tweet_id            1971 non-null   object             \n",
      " 1   timestamp           1971 non-null   datetime64[ns, UTC]\n",
      " 2   source              1971 non-null   object             \n",
      " 3   text                1971 non-null   object             \n",
      " 4   expanded_urls       1971 non-null   object             \n",
      " 5   rating_numerator    1971 non-null   int64              \n",
      " 6   rating_denominator  1971 non-null   int64              \n",
      " 7   name                1349 non-null   object             \n",
      " 8   dog_stage           303 non-null    object             \n",
      " 9   retweet_count       1971 non-null   int64              \n",
      " 10  favorite_count      1971 non-null   int64              \n",
      " 11  jpg_url             1971 non-null   object             \n",
      " 12  breed               1463 non-null   object             \n",
      "dtypes: datetime64[ns, UTC](1), int64(4), object(8)\n",
      "memory usage: 280.1+ KB\n"
     ]
    }
   ],
   "source": [
    "clean_archive.info()"
   ]
  },
  {
   "cell_type": "code",
   "execution_count": 41,
   "metadata": {},
   "outputs": [
    {
     "data": {
      "text/plain": [
       "golden_retriever      137\n",
       "Labrador_retriever     94\n",
       "Pembroke               88\n",
       "Chihuahua              78\n",
       "pug                    54\n",
       "                     ... \n",
       "Scotch_terrier          1\n",
       "EntleBucher             1\n",
       "Japanese_spaniel        1\n",
       "standard_schnauzer      1\n",
       "clumber                 1\n",
       "Name: breed, Length: 111, dtype: int64"
      ]
     },
     "execution_count": 41,
     "metadata": {},
     "output_type": "execute_result"
    }
   ],
   "source": [
    "clean_archive['breed'].value_counts()"
   ]
  },
  {
   "cell_type": "markdown",
   "metadata": {
    "tags": []
   },
   "source": [
    "## Storing Data\n",
    "Save gathered, assessed, and cleaned master dataset to a CSV file named \"twitter_archive_master.csv\"."
   ]
  },
  {
   "cell_type": "code",
   "execution_count": 42,
   "metadata": {},
   "outputs": [],
   "source": [
    "clean_archive.to_csv('twitter_archive_master.csv', index=False)"
   ]
  },
  {
   "cell_type": "markdown",
   "metadata": {},
   "source": [
    "## Analyzing and Visualizing Data\n",
    "In this section, I will analyze and visualize the wrangled data to produce **four (4) insights and visualizations.**"
   ]
  },
  {
   "cell_type": "code",
   "execution_count": 43,
   "metadata": {},
   "outputs": [
    {
     "data": {
      "text/html": [
       "<div>\n",
       "<style scoped>\n",
       "    .dataframe tbody tr th:only-of-type {\n",
       "        vertical-align: middle;\n",
       "    }\n",
       "\n",
       "    .dataframe tbody tr th {\n",
       "        vertical-align: top;\n",
       "    }\n",
       "\n",
       "    .dataframe thead th {\n",
       "        text-align: right;\n",
       "    }\n",
       "</style>\n",
       "<table border=\"1\" class=\"dataframe\">\n",
       "  <thead>\n",
       "    <tr style=\"text-align: right;\">\n",
       "      <th></th>\n",
       "      <th>tweet_id</th>\n",
       "      <th>timestamp</th>\n",
       "      <th>source</th>\n",
       "      <th>text</th>\n",
       "      <th>expanded_urls</th>\n",
       "      <th>rating_numerator</th>\n",
       "      <th>rating_denominator</th>\n",
       "      <th>name</th>\n",
       "      <th>dog_stage</th>\n",
       "      <th>retweet_count</th>\n",
       "      <th>favorite_count</th>\n",
       "      <th>jpg_url</th>\n",
       "      <th>breed</th>\n",
       "    </tr>\n",
       "  </thead>\n",
       "  <tbody>\n",
       "    <tr>\n",
       "      <th>128</th>\n",
       "      <td>860524505164394496</td>\n",
       "      <td>2017-05-05 16:00:04+00:00</td>\n",
       "      <td>http://twitter.com/download/iphone</td>\n",
       "      <td>This is Carl. He likes to dance. Doesn't care ...</td>\n",
       "      <td>https://twitter.com/dog_rates/status/860524505...</td>\n",
       "      <td>13</td>\n",
       "      <td>10</td>\n",
       "      <td>Carl</td>\n",
       "      <td>NaN</td>\n",
       "      <td>5698</td>\n",
       "      <td>24678</td>\n",
       "      <td>https://pbs.twimg.com/media/C_EyeKuXkAAdxY-.jpg</td>\n",
       "      <td>Bedlington_terrier</td>\n",
       "    </tr>\n",
       "    <tr>\n",
       "      <th>1927</th>\n",
       "      <td>666776908487630848</td>\n",
       "      <td>2015-11-18 00:36:17+00:00</td>\n",
       "      <td>http://twitter.com/download/iphone</td>\n",
       "      <td>This is Josep. He is a Rye Manganese mix. Can ...</td>\n",
       "      <td>https://twitter.com/dog_rates/status/666776908...</td>\n",
       "      <td>5</td>\n",
       "      <td>10</td>\n",
       "      <td>Josep</td>\n",
       "      <td>NaN</td>\n",
       "      <td>186</td>\n",
       "      <td>368</td>\n",
       "      <td>https://pbs.twimg.com/media/CUDeDoWUYAAD-EM.jpg</td>\n",
       "      <td>NaN</td>\n",
       "    </tr>\n",
       "    <tr>\n",
       "      <th>92</th>\n",
       "      <td>870656317836468226</td>\n",
       "      <td>2017-06-02 15:00:16+00:00</td>\n",
       "      <td>http://twitter.com/download/iphone</td>\n",
       "      <td>This is Cody. He zoomed too aggressively and t...</td>\n",
       "      <td>https://www.gofundme.com/help-fix-codys-torn-a...</td>\n",
       "      <td>13</td>\n",
       "      <td>10</td>\n",
       "      <td>Cody</td>\n",
       "      <td>NaN</td>\n",
       "      <td>2817</td>\n",
       "      <td>12819</td>\n",
       "      <td>https://pbs.twimg.com/media/DBUxSSTXsAA-Jn1.jpg</td>\n",
       "      <td>Pembroke</td>\n",
       "    </tr>\n",
       "  </tbody>\n",
       "</table>\n",
       "</div>"
      ],
      "text/plain": [
       "                tweet_id                  timestamp  \\\n",
       "128   860524505164394496  2017-05-05 16:00:04+00:00   \n",
       "1927  666776908487630848  2015-11-18 00:36:17+00:00   \n",
       "92    870656317836468226  2017-06-02 15:00:16+00:00   \n",
       "\n",
       "                                  source  \\\n",
       "128   http://twitter.com/download/iphone   \n",
       "1927  http://twitter.com/download/iphone   \n",
       "92    http://twitter.com/download/iphone   \n",
       "\n",
       "                                                   text  \\\n",
       "128   This is Carl. He likes to dance. Doesn't care ...   \n",
       "1927  This is Josep. He is a Rye Manganese mix. Can ...   \n",
       "92    This is Cody. He zoomed too aggressively and t...   \n",
       "\n",
       "                                          expanded_urls  rating_numerator  \\\n",
       "128   https://twitter.com/dog_rates/status/860524505...                13   \n",
       "1927  https://twitter.com/dog_rates/status/666776908...                 5   \n",
       "92    https://www.gofundme.com/help-fix-codys-torn-a...                13   \n",
       "\n",
       "      rating_denominator   name dog_stage  retweet_count  favorite_count  \\\n",
       "128                   10   Carl       NaN           5698           24678   \n",
       "1927                  10  Josep       NaN            186             368   \n",
       "92                    10   Cody       NaN           2817           12819   \n",
       "\n",
       "                                              jpg_url               breed  \n",
       "128   https://pbs.twimg.com/media/C_EyeKuXkAAdxY-.jpg  Bedlington_terrier  \n",
       "1927  https://pbs.twimg.com/media/CUDeDoWUYAAD-EM.jpg                 NaN  \n",
       "92    https://pbs.twimg.com/media/DBUxSSTXsAA-Jn1.jpg            Pembroke  "
      ]
     },
     "execution_count": 43,
     "metadata": {},
     "output_type": "execute_result"
    }
   ],
   "source": [
    "df = pd.read_csv('twitter_archive_master.csv')\n",
    "df.sample(3)"
   ]
  },
  {
   "cell_type": "code",
   "execution_count": 44,
   "metadata": {},
   "outputs": [
    {
     "name": "stdout",
     "output_type": "stream",
     "text": [
      "<class 'pandas.core.frame.DataFrame'>\n",
      "RangeIndex: 1971 entries, 0 to 1970\n",
      "Data columns (total 13 columns):\n",
      " #   Column              Non-Null Count  Dtype \n",
      "---  ------              --------------  ----- \n",
      " 0   tweet_id            1971 non-null   int64 \n",
      " 1   timestamp           1971 non-null   object\n",
      " 2   source              1971 non-null   object\n",
      " 3   text                1971 non-null   object\n",
      " 4   expanded_urls       1971 non-null   object\n",
      " 5   rating_numerator    1971 non-null   int64 \n",
      " 6   rating_denominator  1971 non-null   int64 \n",
      " 7   name                1349 non-null   object\n",
      " 8   dog_stage           303 non-null    object\n",
      " 9   retweet_count       1971 non-null   int64 \n",
      " 10  favorite_count      1971 non-null   int64 \n",
      " 11  jpg_url             1971 non-null   object\n",
      " 12  breed               1463 non-null   object\n",
      "dtypes: int64(5), object(8)\n",
      "memory usage: 200.3+ KB\n"
     ]
    }
   ],
   "source": [
    "df.info()"
   ]
  },
  {
   "cell_type": "markdown",
   "metadata": {},
   "source": [
    "### Insights and Visualization"
   ]
  },
  {
   "cell_type": "markdown",
   "metadata": {},
   "source": [
    "##### Engagement (retweets and likes) over time"
   ]
  },
  {
   "cell_type": "code",
   "execution_count": 45,
   "metadata": {},
   "outputs": [],
   "source": [
    "# Convert timestamp from object datatype to datetime format\n",
    "df['timestamp'] = pd.to_datetime(df['timestamp'])"
   ]
  },
  {
   "cell_type": "code",
   "execution_count": 46,
   "metadata": {},
   "outputs": [
    {
     "data": {
      "text/html": [
       "<div>\n",
       "<style scoped>\n",
       "    .dataframe tbody tr th:only-of-type {\n",
       "        vertical-align: middle;\n",
       "    }\n",
       "\n",
       "    .dataframe tbody tr th {\n",
       "        vertical-align: top;\n",
       "    }\n",
       "\n",
       "    .dataframe thead th {\n",
       "        text-align: right;\n",
       "    }\n",
       "</style>\n",
       "<table border=\"1\" class=\"dataframe\">\n",
       "  <thead>\n",
       "    <tr style=\"text-align: right;\">\n",
       "      <th></th>\n",
       "      <th>timestamp</th>\n",
       "      <th>favorite_count</th>\n",
       "      <th>retweet_count</th>\n",
       "    </tr>\n",
       "  </thead>\n",
       "  <tbody>\n",
       "    <tr>\n",
       "      <th>1970</th>\n",
       "      <td>2015-11-15 22:32:08+00:00</td>\n",
       "      <td>2535</td>\n",
       "      <td>532</td>\n",
       "    </tr>\n",
       "    <tr>\n",
       "      <th>1969</th>\n",
       "      <td>2015-11-15 23:05:30+00:00</td>\n",
       "      <td>132</td>\n",
       "      <td>48</td>\n",
       "    </tr>\n",
       "    <tr>\n",
       "      <th>1968</th>\n",
       "      <td>2015-11-15 23:21:54+00:00</td>\n",
       "      <td>128</td>\n",
       "      <td>47</td>\n",
       "    </tr>\n",
       "    <tr>\n",
       "      <th>1967</th>\n",
       "      <td>2015-11-16 00:04:52+00:00</td>\n",
       "      <td>311</td>\n",
       "      <td>147</td>\n",
       "    </tr>\n",
       "    <tr>\n",
       "      <th>1966</th>\n",
       "      <td>2015-11-16 00:24:50+00:00</td>\n",
       "      <td>111</td>\n",
       "      <td>41</td>\n",
       "    </tr>\n",
       "    <tr>\n",
       "      <th>...</th>\n",
       "      <td>...</td>\n",
       "      <td>...</td>\n",
       "      <td>...</td>\n",
       "    </tr>\n",
       "    <tr>\n",
       "      <th>4</th>\n",
       "      <td>2017-07-29 16:00:24+00:00</td>\n",
       "      <td>41048</td>\n",
       "      <td>9774</td>\n",
       "    </tr>\n",
       "    <tr>\n",
       "      <th>3</th>\n",
       "      <td>2017-07-30 15:58:51+00:00</td>\n",
       "      <td>42908</td>\n",
       "      <td>8964</td>\n",
       "    </tr>\n",
       "    <tr>\n",
       "      <th>2</th>\n",
       "      <td>2017-07-31 00:18:03+00:00</td>\n",
       "      <td>25461</td>\n",
       "      <td>4328</td>\n",
       "    </tr>\n",
       "    <tr>\n",
       "      <th>1</th>\n",
       "      <td>2017-08-01 00:17:27+00:00</td>\n",
       "      <td>33819</td>\n",
       "      <td>6514</td>\n",
       "    </tr>\n",
       "    <tr>\n",
       "      <th>0</th>\n",
       "      <td>2017-08-01 16:23:56+00:00</td>\n",
       "      <td>39467</td>\n",
       "      <td>8853</td>\n",
       "    </tr>\n",
       "  </tbody>\n",
       "</table>\n",
       "<p>1971 rows × 3 columns</p>\n",
       "</div>"
      ],
      "text/plain": [
       "                     timestamp  favorite_count  retweet_count\n",
       "1970 2015-11-15 22:32:08+00:00            2535            532\n",
       "1969 2015-11-15 23:05:30+00:00             132             48\n",
       "1968 2015-11-15 23:21:54+00:00             128             47\n",
       "1967 2015-11-16 00:04:52+00:00             311            147\n",
       "1966 2015-11-16 00:24:50+00:00             111             41\n",
       "...                        ...             ...            ...\n",
       "4    2017-07-29 16:00:24+00:00           41048           9774\n",
       "3    2017-07-30 15:58:51+00:00           42908           8964\n",
       "2    2017-07-31 00:18:03+00:00           25461           4328\n",
       "1    2017-08-01 00:17:27+00:00           33819           6514\n",
       "0    2017-08-01 16:23:56+00:00           39467           8853\n",
       "\n",
       "[1971 rows x 3 columns]"
      ]
     },
     "execution_count": 46,
     "metadata": {},
     "output_type": "execute_result"
    }
   ],
   "source": [
    "# Sort engagement by ascending time order\n",
    "engagement = df[['timestamp', 'favorite_count', 'retweet_count']].sort_values('timestamp')\n",
    "engagement"
   ]
  },
  {
   "cell_type": "code",
   "execution_count": 47,
   "metadata": {},
   "outputs": [
    {
     "data": {
      "text/html": [
       "<div>\n",
       "<style scoped>\n",
       "    .dataframe tbody tr th:only-of-type {\n",
       "        vertical-align: middle;\n",
       "    }\n",
       "\n",
       "    .dataframe tbody tr th {\n",
       "        vertical-align: top;\n",
       "    }\n",
       "\n",
       "    .dataframe thead th {\n",
       "        text-align: right;\n",
       "    }\n",
       "</style>\n",
       "<table border=\"1\" class=\"dataframe\">\n",
       "  <thead>\n",
       "    <tr style=\"text-align: right;\">\n",
       "      <th></th>\n",
       "      <th>timestamp</th>\n",
       "      <th>favorite_count</th>\n",
       "      <th>retweet_count</th>\n",
       "      <th>favorite_ma</th>\n",
       "      <th>retweet_ma</th>\n",
       "    </tr>\n",
       "  </thead>\n",
       "  <tbody>\n",
       "    <tr>\n",
       "      <th>1970</th>\n",
       "      <td>2015-11-15 22:32:08+00:00</td>\n",
       "      <td>2535</td>\n",
       "      <td>532</td>\n",
       "      <td>NaN</td>\n",
       "      <td>NaN</td>\n",
       "    </tr>\n",
       "    <tr>\n",
       "      <th>1969</th>\n",
       "      <td>2015-11-15 23:05:30+00:00</td>\n",
       "      <td>132</td>\n",
       "      <td>48</td>\n",
       "      <td>NaN</td>\n",
       "      <td>NaN</td>\n",
       "    </tr>\n",
       "    <tr>\n",
       "      <th>1968</th>\n",
       "      <td>2015-11-15 23:21:54+00:00</td>\n",
       "      <td>128</td>\n",
       "      <td>47</td>\n",
       "      <td>NaN</td>\n",
       "      <td>NaN</td>\n",
       "    </tr>\n",
       "    <tr>\n",
       "      <th>1967</th>\n",
       "      <td>2015-11-16 00:04:52+00:00</td>\n",
       "      <td>311</td>\n",
       "      <td>147</td>\n",
       "      <td>NaN</td>\n",
       "      <td>NaN</td>\n",
       "    </tr>\n",
       "    <tr>\n",
       "      <th>1966</th>\n",
       "      <td>2015-11-16 00:24:50+00:00</td>\n",
       "      <td>111</td>\n",
       "      <td>41</td>\n",
       "      <td>NaN</td>\n",
       "      <td>NaN</td>\n",
       "    </tr>\n",
       "    <tr>\n",
       "      <th>1965</th>\n",
       "      <td>2015-11-16 00:30:50+00:00</td>\n",
       "      <td>136</td>\n",
       "      <td>60</td>\n",
       "      <td>NaN</td>\n",
       "      <td>NaN</td>\n",
       "    </tr>\n",
       "    <tr>\n",
       "      <th>1964</th>\n",
       "      <td>2015-11-16 00:35:11+00:00</td>\n",
       "      <td>1253</td>\n",
       "      <td>879</td>\n",
       "      <td>NaN</td>\n",
       "      <td>NaN</td>\n",
       "    </tr>\n",
       "    <tr>\n",
       "      <th>1963</th>\n",
       "      <td>2015-11-16 00:49:46+00:00</td>\n",
       "      <td>448</td>\n",
       "      <td>261</td>\n",
       "      <td>NaN</td>\n",
       "      <td>NaN</td>\n",
       "    </tr>\n",
       "    <tr>\n",
       "      <th>1962</th>\n",
       "      <td>2015-11-16 00:55:59+00:00</td>\n",
       "      <td>304</td>\n",
       "      <td>146</td>\n",
       "      <td>NaN</td>\n",
       "      <td>NaN</td>\n",
       "    </tr>\n",
       "    <tr>\n",
       "      <th>1961</th>\n",
       "      <td>2015-11-16 01:01:59+00:00</td>\n",
       "      <td>115</td>\n",
       "      <td>61</td>\n",
       "      <td>NaN</td>\n",
       "      <td>NaN</td>\n",
       "    </tr>\n",
       "    <tr>\n",
       "      <th>1960</th>\n",
       "      <td>2015-11-16 01:22:45+00:00</td>\n",
       "      <td>496</td>\n",
       "      <td>232</td>\n",
       "      <td>NaN</td>\n",
       "      <td>NaN</td>\n",
       "    </tr>\n",
       "    <tr>\n",
       "      <th>1959</th>\n",
       "      <td>2015-11-16 01:52:02+00:00</td>\n",
       "      <td>154</td>\n",
       "      <td>67</td>\n",
       "      <td>NaN</td>\n",
       "      <td>NaN</td>\n",
       "    </tr>\n",
       "    <tr>\n",
       "      <th>1958</th>\n",
       "      <td>2015-11-16 01:59:36+00:00</td>\n",
       "      <td>335</td>\n",
       "      <td>174</td>\n",
       "      <td>NaN</td>\n",
       "      <td>NaN</td>\n",
       "    </tr>\n",
       "    <tr>\n",
       "      <th>1957</th>\n",
       "      <td>2015-11-16 02:38:37+00:00</td>\n",
       "      <td>121</td>\n",
       "      <td>47</td>\n",
       "      <td>NaN</td>\n",
       "      <td>NaN</td>\n",
       "    </tr>\n",
       "    <tr>\n",
       "      <th>1956</th>\n",
       "      <td>2015-11-16 03:22:39+00:00</td>\n",
       "      <td>169</td>\n",
       "      <td>79</td>\n",
       "      <td>NaN</td>\n",
       "      <td>NaN</td>\n",
       "    </tr>\n",
       "    <tr>\n",
       "      <th>1955</th>\n",
       "      <td>2015-11-16 03:44:34+00:00</td>\n",
       "      <td>164</td>\n",
       "      <td>73</td>\n",
       "      <td>NaN</td>\n",
       "      <td>NaN</td>\n",
       "    </tr>\n",
       "    <tr>\n",
       "      <th>1954</th>\n",
       "      <td>2015-11-16 03:55:04+00:00</td>\n",
       "      <td>81</td>\n",
       "      <td>16</td>\n",
       "      <td>NaN</td>\n",
       "      <td>NaN</td>\n",
       "    </tr>\n",
       "    <tr>\n",
       "      <th>1953</th>\n",
       "      <td>2015-11-16 04:02:55+00:00</td>\n",
       "      <td>14765</td>\n",
       "      <td>6871</td>\n",
       "      <td>NaN</td>\n",
       "      <td>NaN</td>\n",
       "    </tr>\n",
       "    <tr>\n",
       "      <th>1952</th>\n",
       "      <td>2015-11-16 14:57:41+00:00</td>\n",
       "      <td>108</td>\n",
       "      <td>37</td>\n",
       "      <td>NaN</td>\n",
       "      <td>NaN</td>\n",
       "    </tr>\n",
       "    <tr>\n",
       "      <th>1951</th>\n",
       "      <td>2015-11-16 15:14:19+00:00</td>\n",
       "      <td>184</td>\n",
       "      <td>82</td>\n",
       "      <td>NaN</td>\n",
       "      <td>NaN</td>\n",
       "    </tr>\n",
       "    <tr>\n",
       "      <th>1950</th>\n",
       "      <td>2015-11-16 16:11:11+00:00</td>\n",
       "      <td>152</td>\n",
       "      <td>71</td>\n",
       "      <td>NaN</td>\n",
       "      <td>NaN</td>\n",
       "    </tr>\n",
       "    <tr>\n",
       "      <th>1949</th>\n",
       "      <td>2015-11-16 16:37:02+00:00</td>\n",
       "      <td>522</td>\n",
       "      <td>368</td>\n",
       "      <td>NaN</td>\n",
       "      <td>NaN</td>\n",
       "    </tr>\n",
       "    <tr>\n",
       "      <th>1948</th>\n",
       "      <td>2015-11-16 19:31:45+00:00</td>\n",
       "      <td>204</td>\n",
       "      <td>96</td>\n",
       "      <td>NaN</td>\n",
       "      <td>NaN</td>\n",
       "    </tr>\n",
       "    <tr>\n",
       "      <th>1947</th>\n",
       "      <td>2015-11-16 20:01:42+00:00</td>\n",
       "      <td>307</td>\n",
       "      <td>146</td>\n",
       "      <td>NaN</td>\n",
       "      <td>NaN</td>\n",
       "    </tr>\n",
       "    <tr>\n",
       "      <th>1946</th>\n",
       "      <td>2015-11-16 20:32:58+00:00</td>\n",
       "      <td>229</td>\n",
       "      <td>77</td>\n",
       "      <td>NaN</td>\n",
       "      <td>NaN</td>\n",
       "    </tr>\n",
       "    <tr>\n",
       "      <th>1945</th>\n",
       "      <td>2015-11-16 21:10:36+00:00</td>\n",
       "      <td>804</td>\n",
       "      <td>595</td>\n",
       "      <td>NaN</td>\n",
       "      <td>NaN</td>\n",
       "    </tr>\n",
       "    <tr>\n",
       "      <th>1944</th>\n",
       "      <td>2015-11-16 21:54:18+00:00</td>\n",
       "      <td>194</td>\n",
       "      <td>100</td>\n",
       "      <td>NaN</td>\n",
       "      <td>NaN</td>\n",
       "    </tr>\n",
       "    <tr>\n",
       "      <th>1943</th>\n",
       "      <td>2015-11-16 23:23:41+00:00</td>\n",
       "      <td>172</td>\n",
       "      <td>92</td>\n",
       "      <td>NaN</td>\n",
       "      <td>NaN</td>\n",
       "    </tr>\n",
       "    <tr>\n",
       "      <th>1942</th>\n",
       "      <td>2015-11-17 00:06:54+00:00</td>\n",
       "      <td>113</td>\n",
       "      <td>44</td>\n",
       "      <td>NaN</td>\n",
       "      <td>NaN</td>\n",
       "    </tr>\n",
       "    <tr>\n",
       "      <th>1941</th>\n",
       "      <td>2015-11-17 00:24:19+00:00</td>\n",
       "      <td>459</td>\n",
       "      <td>339</td>\n",
       "      <td>840.200000</td>\n",
       "      <td>394.266667</td>\n",
       "    </tr>\n",
       "    <tr>\n",
       "      <th>1940</th>\n",
       "      <td>2015-11-17 00:53:15+00:00</td>\n",
       "      <td>129</td>\n",
       "      <td>48</td>\n",
       "      <td>760.000000</td>\n",
       "      <td>378.133333</td>\n",
       "    </tr>\n",
       "    <tr>\n",
       "      <th>1939</th>\n",
       "      <td>2015-11-17 01:02:40+00:00</td>\n",
       "      <td>327</td>\n",
       "      <td>118</td>\n",
       "      <td>766.500000</td>\n",
       "      <td>380.466667</td>\n",
       "    </tr>\n",
       "    <tr>\n",
       "      <th>1938</th>\n",
       "      <td>2015-11-17 01:30:57+00:00</td>\n",
       "      <td>171</td>\n",
       "      <td>90</td>\n",
       "      <td>767.933333</td>\n",
       "      <td>381.900000</td>\n",
       "    </tr>\n",
       "    <tr>\n",
       "      <th>1937</th>\n",
       "      <td>2015-11-17 01:40:41+00:00</td>\n",
       "      <td>330</td>\n",
       "      <td>204</td>\n",
       "      <td>768.566667</td>\n",
       "      <td>383.800000</td>\n",
       "    </tr>\n",
       "    <tr>\n",
       "      <th>1936</th>\n",
       "      <td>2015-11-17 02:00:15+00:00</td>\n",
       "      <td>170</td>\n",
       "      <td>54</td>\n",
       "      <td>770.533333</td>\n",
       "      <td>384.233333</td>\n",
       "    </tr>\n",
       "    <tr>\n",
       "      <th>1935</th>\n",
       "      <td>2015-11-17 02:06:42+00:00</td>\n",
       "      <td>131</td>\n",
       "      <td>52</td>\n",
       "      <td>770.366667</td>\n",
       "      <td>383.966667</td>\n",
       "    </tr>\n",
       "    <tr>\n",
       "      <th>1934</th>\n",
       "      <td>2015-11-17 02:46:43+00:00</td>\n",
       "      <td>107</td>\n",
       "      <td>23</td>\n",
       "      <td>732.166667</td>\n",
       "      <td>355.433333</td>\n",
       "    </tr>\n",
       "    <tr>\n",
       "      <th>1933</th>\n",
       "      <td>2015-11-17 03:16:00+00:00</td>\n",
       "      <td>545</td>\n",
       "      <td>223</td>\n",
       "      <td>735.400000</td>\n",
       "      <td>354.166667</td>\n",
       "    </tr>\n",
       "    <tr>\n",
       "      <th>1932</th>\n",
       "      <td>2015-11-17 15:51:26+00:00</td>\n",
       "      <td>238</td>\n",
       "      <td>88</td>\n",
       "      <td>733.200000</td>\n",
       "      <td>352.233333</td>\n",
       "    </tr>\n",
       "    <tr>\n",
       "      <th>1931</th>\n",
       "      <td>2015-11-17 16:09:56+00:00</td>\n",
       "      <td>923</td>\n",
       "      <td>608</td>\n",
       "      <td>760.133333</td>\n",
       "      <td>370.466667</td>\n",
       "    </tr>\n",
       "    <tr>\n",
       "      <th>1930</th>\n",
       "      <td>2015-11-17 18:56:35+00:00</td>\n",
       "      <td>196</td>\n",
       "      <td>51</td>\n",
       "      <td>750.133333</td>\n",
       "      <td>364.433333</td>\n",
       "    </tr>\n",
       "    <tr>\n",
       "      <th>1929</th>\n",
       "      <td>2015-11-17 19:35:19+00:00</td>\n",
       "      <td>449</td>\n",
       "      <td>234</td>\n",
       "      <td>759.966667</td>\n",
       "      <td>370.000000</td>\n",
       "    </tr>\n",
       "    <tr>\n",
       "      <th>1928</th>\n",
       "      <td>2015-11-17 22:06:57+00:00</td>\n",
       "      <td>244</td>\n",
       "      <td>71</td>\n",
       "      <td>756.933333</td>\n",
       "      <td>366.566667</td>\n",
       "    </tr>\n",
       "    <tr>\n",
       "      <th>1927</th>\n",
       "      <td>2015-11-18 00:36:17+00:00</td>\n",
       "      <td>368</td>\n",
       "      <td>186</td>\n",
       "      <td>765.166667</td>\n",
       "      <td>371.200000</td>\n",
       "    </tr>\n",
       "    <tr>\n",
       "      <th>1926</th>\n",
       "      <td>2015-11-18 00:55:42+00:00</td>\n",
       "      <td>404</td>\n",
       "      <td>211</td>\n",
       "      <td>773.000000</td>\n",
       "      <td>375.600000</td>\n",
       "    </tr>\n",
       "    <tr>\n",
       "      <th>1925</th>\n",
       "      <td>2015-11-18 01:12:41+00:00</td>\n",
       "      <td>800</td>\n",
       "      <td>521</td>\n",
       "      <td>794.200000</td>\n",
       "      <td>390.533333</td>\n",
       "    </tr>\n",
       "    <tr>\n",
       "      <th>1924</th>\n",
       "      <td>2015-11-18 02:25:23+00:00</td>\n",
       "      <td>250</td>\n",
       "      <td>95</td>\n",
       "      <td>799.833333</td>\n",
       "      <td>393.166667</td>\n",
       "    </tr>\n",
       "    <tr>\n",
       "      <th>1923</th>\n",
       "      <td>2015-11-18 03:18:55+00:00</td>\n",
       "      <td>540</td>\n",
       "      <td>267</td>\n",
       "      <td>325.666667</td>\n",
       "      <td>173.033333</td>\n",
       "    </tr>\n",
       "    <tr>\n",
       "      <th>1922</th>\n",
       "      <td>2015-11-18 03:54:28+00:00</td>\n",
       "      <td>266</td>\n",
       "      <td>105</td>\n",
       "      <td>330.933333</td>\n",
       "      <td>175.300000</td>\n",
       "    </tr>\n",
       "    <tr>\n",
       "      <th>1921</th>\n",
       "      <td>2015-11-18 04:27:09+00:00</td>\n",
       "      <td>222</td>\n",
       "      <td>83</td>\n",
       "      <td>332.200000</td>\n",
       "      <td>175.333333</td>\n",
       "    </tr>\n",
       "    <tr>\n",
       "      <th>1920</th>\n",
       "      <td>2015-11-18 04:35:11+00:00</td>\n",
       "      <td>857</td>\n",
       "      <td>584</td>\n",
       "      <td>355.700000</td>\n",
       "      <td>192.433333</td>\n",
       "    </tr>\n",
       "    <tr>\n",
       "      <th>1919</th>\n",
       "      <td>2015-11-18 14:18:59+00:00</td>\n",
       "      <td>2679</td>\n",
       "      <td>1040</td>\n",
       "      <td>427.600000</td>\n",
       "      <td>214.833333</td>\n",
       "    </tr>\n",
       "    <tr>\n",
       "      <th>1918</th>\n",
       "      <td>2015-11-18 15:07:24+00:00</td>\n",
       "      <td>258</td>\n",
       "      <td>102</td>\n",
       "      <td>429.400000</td>\n",
       "      <td>215.033333</td>\n",
       "    </tr>\n",
       "    <tr>\n",
       "      <th>1917</th>\n",
       "      <td>2015-11-18 16:12:51+00:00</td>\n",
       "      <td>471</td>\n",
       "      <td>237</td>\n",
       "      <td>434.866667</td>\n",
       "      <td>218.066667</td>\n",
       "    </tr>\n",
       "    <tr>\n",
       "      <th>1916</th>\n",
       "      <td>2015-11-18 18:17:59+00:00</td>\n",
       "      <td>198</td>\n",
       "      <td>54</td>\n",
       "      <td>433.833333</td>\n",
       "      <td>217.300000</td>\n",
       "    </tr>\n",
       "    <tr>\n",
       "      <th>1915</th>\n",
       "      <td>2015-11-18 19:29:52+00:00</td>\n",
       "      <td>227</td>\n",
       "      <td>57</td>\n",
       "      <td>414.600000</td>\n",
       "      <td>199.366667</td>\n",
       "    </tr>\n",
       "    <tr>\n",
       "      <th>1914</th>\n",
       "      <td>2015-11-18 19:43:11+00:00</td>\n",
       "      <td>175</td>\n",
       "      <td>51</td>\n",
       "      <td>413.966667</td>\n",
       "      <td>197.733333</td>\n",
       "    </tr>\n",
       "    <tr>\n",
       "      <th>1913</th>\n",
       "      <td>2015-11-18 20:15:26+00:00</td>\n",
       "      <td>425</td>\n",
       "      <td>134</td>\n",
       "      <td>422.400000</td>\n",
       "      <td>199.133333</td>\n",
       "    </tr>\n",
       "    <tr>\n",
       "      <th>1912</th>\n",
       "      <td>2015-11-18 21:23:57+00:00</td>\n",
       "      <td>349</td>\n",
       "      <td>132</td>\n",
       "      <td>430.266667</td>\n",
       "      <td>202.066667</td>\n",
       "    </tr>\n",
       "    <tr>\n",
       "      <th>1911</th>\n",
       "      <td>2015-11-18 23:18:48+00:00</td>\n",
       "      <td>346</td>\n",
       "      <td>135</td>\n",
       "      <td>426.500000</td>\n",
       "      <td>195.266667</td>\n",
       "    </tr>\n",
       "  </tbody>\n",
       "</table>\n",
       "</div>"
      ],
      "text/plain": [
       "                     timestamp  favorite_count  retweet_count  favorite_ma  \\\n",
       "1970 2015-11-15 22:32:08+00:00            2535            532          NaN   \n",
       "1969 2015-11-15 23:05:30+00:00             132             48          NaN   \n",
       "1968 2015-11-15 23:21:54+00:00             128             47          NaN   \n",
       "1967 2015-11-16 00:04:52+00:00             311            147          NaN   \n",
       "1966 2015-11-16 00:24:50+00:00             111             41          NaN   \n",
       "1965 2015-11-16 00:30:50+00:00             136             60          NaN   \n",
       "1964 2015-11-16 00:35:11+00:00            1253            879          NaN   \n",
       "1963 2015-11-16 00:49:46+00:00             448            261          NaN   \n",
       "1962 2015-11-16 00:55:59+00:00             304            146          NaN   \n",
       "1961 2015-11-16 01:01:59+00:00             115             61          NaN   \n",
       "1960 2015-11-16 01:22:45+00:00             496            232          NaN   \n",
       "1959 2015-11-16 01:52:02+00:00             154             67          NaN   \n",
       "1958 2015-11-16 01:59:36+00:00             335            174          NaN   \n",
       "1957 2015-11-16 02:38:37+00:00             121             47          NaN   \n",
       "1956 2015-11-16 03:22:39+00:00             169             79          NaN   \n",
       "1955 2015-11-16 03:44:34+00:00             164             73          NaN   \n",
       "1954 2015-11-16 03:55:04+00:00              81             16          NaN   \n",
       "1953 2015-11-16 04:02:55+00:00           14765           6871          NaN   \n",
       "1952 2015-11-16 14:57:41+00:00             108             37          NaN   \n",
       "1951 2015-11-16 15:14:19+00:00             184             82          NaN   \n",
       "1950 2015-11-16 16:11:11+00:00             152             71          NaN   \n",
       "1949 2015-11-16 16:37:02+00:00             522            368          NaN   \n",
       "1948 2015-11-16 19:31:45+00:00             204             96          NaN   \n",
       "1947 2015-11-16 20:01:42+00:00             307            146          NaN   \n",
       "1946 2015-11-16 20:32:58+00:00             229             77          NaN   \n",
       "1945 2015-11-16 21:10:36+00:00             804            595          NaN   \n",
       "1944 2015-11-16 21:54:18+00:00             194            100          NaN   \n",
       "1943 2015-11-16 23:23:41+00:00             172             92          NaN   \n",
       "1942 2015-11-17 00:06:54+00:00             113             44          NaN   \n",
       "1941 2015-11-17 00:24:19+00:00             459            339   840.200000   \n",
       "1940 2015-11-17 00:53:15+00:00             129             48   760.000000   \n",
       "1939 2015-11-17 01:02:40+00:00             327            118   766.500000   \n",
       "1938 2015-11-17 01:30:57+00:00             171             90   767.933333   \n",
       "1937 2015-11-17 01:40:41+00:00             330            204   768.566667   \n",
       "1936 2015-11-17 02:00:15+00:00             170             54   770.533333   \n",
       "1935 2015-11-17 02:06:42+00:00             131             52   770.366667   \n",
       "1934 2015-11-17 02:46:43+00:00             107             23   732.166667   \n",
       "1933 2015-11-17 03:16:00+00:00             545            223   735.400000   \n",
       "1932 2015-11-17 15:51:26+00:00             238             88   733.200000   \n",
       "1931 2015-11-17 16:09:56+00:00             923            608   760.133333   \n",
       "1930 2015-11-17 18:56:35+00:00             196             51   750.133333   \n",
       "1929 2015-11-17 19:35:19+00:00             449            234   759.966667   \n",
       "1928 2015-11-17 22:06:57+00:00             244             71   756.933333   \n",
       "1927 2015-11-18 00:36:17+00:00             368            186   765.166667   \n",
       "1926 2015-11-18 00:55:42+00:00             404            211   773.000000   \n",
       "1925 2015-11-18 01:12:41+00:00             800            521   794.200000   \n",
       "1924 2015-11-18 02:25:23+00:00             250             95   799.833333   \n",
       "1923 2015-11-18 03:18:55+00:00             540            267   325.666667   \n",
       "1922 2015-11-18 03:54:28+00:00             266            105   330.933333   \n",
       "1921 2015-11-18 04:27:09+00:00             222             83   332.200000   \n",
       "1920 2015-11-18 04:35:11+00:00             857            584   355.700000   \n",
       "1919 2015-11-18 14:18:59+00:00            2679           1040   427.600000   \n",
       "1918 2015-11-18 15:07:24+00:00             258            102   429.400000   \n",
       "1917 2015-11-18 16:12:51+00:00             471            237   434.866667   \n",
       "1916 2015-11-18 18:17:59+00:00             198             54   433.833333   \n",
       "1915 2015-11-18 19:29:52+00:00             227             57   414.600000   \n",
       "1914 2015-11-18 19:43:11+00:00             175             51   413.966667   \n",
       "1913 2015-11-18 20:15:26+00:00             425            134   422.400000   \n",
       "1912 2015-11-18 21:23:57+00:00             349            132   430.266667   \n",
       "1911 2015-11-18 23:18:48+00:00             346            135   426.500000   \n",
       "\n",
       "      retweet_ma  \n",
       "1970         NaN  \n",
       "1969         NaN  \n",
       "1968         NaN  \n",
       "1967         NaN  \n",
       "1966         NaN  \n",
       "1965         NaN  \n",
       "1964         NaN  \n",
       "1963         NaN  \n",
       "1962         NaN  \n",
       "1961         NaN  \n",
       "1960         NaN  \n",
       "1959         NaN  \n",
       "1958         NaN  \n",
       "1957         NaN  \n",
       "1956         NaN  \n",
       "1955         NaN  \n",
       "1954         NaN  \n",
       "1953         NaN  \n",
       "1952         NaN  \n",
       "1951         NaN  \n",
       "1950         NaN  \n",
       "1949         NaN  \n",
       "1948         NaN  \n",
       "1947         NaN  \n",
       "1946         NaN  \n",
       "1945         NaN  \n",
       "1944         NaN  \n",
       "1943         NaN  \n",
       "1942         NaN  \n",
       "1941  394.266667  \n",
       "1940  378.133333  \n",
       "1939  380.466667  \n",
       "1938  381.900000  \n",
       "1937  383.800000  \n",
       "1936  384.233333  \n",
       "1935  383.966667  \n",
       "1934  355.433333  \n",
       "1933  354.166667  \n",
       "1932  352.233333  \n",
       "1931  370.466667  \n",
       "1930  364.433333  \n",
       "1929  370.000000  \n",
       "1928  366.566667  \n",
       "1927  371.200000  \n",
       "1926  375.600000  \n",
       "1925  390.533333  \n",
       "1924  393.166667  \n",
       "1923  173.033333  \n",
       "1922  175.300000  \n",
       "1921  175.333333  \n",
       "1920  192.433333  \n",
       "1919  214.833333  \n",
       "1918  215.033333  \n",
       "1917  218.066667  \n",
       "1916  217.300000  \n",
       "1915  199.366667  \n",
       "1914  197.733333  \n",
       "1913  199.133333  \n",
       "1912  202.066667  \n",
       "1911  195.266667  "
      ]
     },
     "execution_count": 47,
     "metadata": {},
     "output_type": "execute_result"
    }
   ],
   "source": [
    "# Calculate a 30 moving average of engagement\n",
    "engagement['favorite_ma'] = engagement['favorite_count'].rolling(30).mean()\n",
    "engagement['retweet_ma'] = engagement['retweet_count'].rolling(30).mean()\n",
    "engagement.head(60)"
   ]
  },
  {
   "cell_type": "code",
   "execution_count": 48,
   "metadata": {},
   "outputs": [
    {
     "data": {
      "image/png": "[encoded data removed]",
      "text/plain": [
       "<Figure size 720x576 with 1 Axes>"
      ]
     },
     "metadata": {
      "needs_background": "light"
     },
     "output_type": "display_data"
    }
   ],
   "source": [
    "# Plot a line graph\n",
    "plt.figure(figsize=(10,8))\n",
    "plt.plot(engagement.timestamp, engagement['favorite_ma'], label='Favorites')\n",
    "plt.plot(engagement.timestamp, engagement['retweet_ma'], label='Retweets')\n",
    "plt.legend()\n",
    "plt.xlabel('Date')\n",
    "plt.ylabel('Count')\n",
    "plt.title('Number of Engagement Over Time');"
   ]
  },
  {
   "cell_type": "markdown",
   "metadata": {},
   "source": [
    "**ANSWER:** Calculating the moving average helps smooth out the engagement data by creating a constantly updated average count of favorites and retweets. Overall, WeRateDogs' engagement appears to be increasing over time with more users favoriting than retweeting."
   ]
  },
  {
   "cell_type": "markdown",
   "metadata": {},
   "source": [
    "##### Distribution of dog ratings"
   ]
  },
  {
   "cell_type": "code",
   "execution_count": 49,
   "metadata": {},
   "outputs": [
    {
     "data": {
      "text/plain": [
       "0         1\n",
       "1         5\n",
       "2         9\n",
       "3        19\n",
       "4        16\n",
       "5        33\n",
       "6        32\n",
       "7        52\n",
       "8        95\n",
       "9       150\n",
       "10      417\n",
       "11      392\n",
       "12      446\n",
       "13      253\n",
       "14       33\n",
       "24        1\n",
       "26        1\n",
       "27        1\n",
       "44        1\n",
       "45        1\n",
       "50        1\n",
       "60        1\n",
       "75        1\n",
       "80        1\n",
       "84        1\n",
       "88        1\n",
       "99        1\n",
       "121       1\n",
       "144       1\n",
       "165       1\n",
       "204       1\n",
       "420       1\n",
       "1776      1\n",
       "Name: rating_numerator, dtype: int64"
      ]
     },
     "execution_count": 49,
     "metadata": {},
     "output_type": "execute_result"
    }
   ],
   "source": [
    "df['rating_numerator'].value_counts().sort_index()"
   ]
  },
  {
   "cell_type": "code",
   "execution_count": 50,
   "metadata": {},
   "outputs": [
    {
     "data": {
      "image/png": "[encoded data removed]",
      "text/plain": [
       "<Figure size 720x576 with 1 Axes>"
      ]
     },
     "metadata": {
      "needs_background": "light"
     },
     "output_type": "display_data"
    }
   ],
   "source": [
    "# Exclude the outliers above 15\n",
    "plt.figure(figsize=(10,8))\n",
    "sns.histplot(data=df, x='rating_numerator')\n",
    "plt.xlim(0,15)\n",
    "plt.ylabel('Number of Tweets')\n",
    "plt.xlabel('Rating')\n",
    "plt.title('Distribution of Ratings');"
   ]
  },
  {
   "cell_type": "code",
   "execution_count": 51,
   "metadata": {},
   "outputs": [
    {
     "data": {
      "text/plain": [
       "1142"
      ]
     },
     "execution_count": 51,
     "metadata": {},
     "output_type": "execute_result"
    }
   ],
   "source": [
    "df[df['rating_numerator'] > 10]['rating_numerator'].value_counts().sum()"
   ]
  },
  {
   "cell_type": "markdown",
   "metadata": {},
   "source": [
    "**ANSWER:** The distribution of ratings is left-skewed. Out of a total of 1971 dogs rated by WeRateDogs, a total of 1142 dogs were rated above 10, which is almost 60%."
   ]
  },
  {
   "cell_type": "markdown",
   "metadata": {},
   "source": [
    "##### The most favorited dog breed"
   ]
  },
  {
   "cell_type": "code",
   "execution_count": 52,
   "metadata": {},
   "outputs": [],
   "source": [
    "# Calculate aggregate favorite count of dog breeds\n",
    "breeds = df['breed'].value_counts().keys()\n",
    "breed_agg_favorite = []\n",
    "\n",
    "for breed in breeds:\n",
    "    agg_favorite = df.loc[df['breed'] == breed]['favorite_count'].sum()\n",
    "    breed_agg_favorite.append([breed, agg_favorite])"
   ]
  },
  {
   "cell_type": "code",
   "execution_count": 53,
   "metadata": {},
   "outputs": [
    {
     "data": {
      "text/plain": [
       "[['golden_retriever', 1693475],\n",
       " ['Labrador_retriever', 1116811],\n",
       " ['Pembroke', 994755],\n",
       " ['Chihuahua', 673526],\n",
       " ['Samoyed', 542991],\n",
       " ['French_bulldog', 465738],\n",
       " ['chow', 404241],\n",
       " ['pug', 320223],\n",
       " ['cocker_spaniel', 315825],\n",
       " ['Pomeranian', 299114],\n",
       " ['Cardigan', 260287],\n",
       " ['toy_poodle', 250648],\n",
       " ['malamute', 249179],\n",
       " ['Chesapeake_Bay_retriever', 232997],\n",
       " ['Eskimo_dog', 216028],\n",
       " ['German_shepherd', 203093],\n",
       " ['Lakeland_terrier', 198198],\n",
       " ['miniature_pinscher', 187889],\n",
       " ['Staffordshire_bullterrier', 187099],\n",
       " ['Great_Pyrenees', 181048],\n",
       " ['basset', 180258],\n",
       " ['Shetland_sheepdog', 154553],\n",
       " ['English_springer', 140915],\n",
       " ['Siberian_husky', 139982],\n",
       " ['flat-coated_retriever', 134333],\n",
       " ['Italian_greyhound', 128658],\n",
       " ['Rottweiler', 127719],\n",
       " ['standard_poodle', 110502],\n",
       " ['kelpie', 109828],\n",
       " ['Border_collie', 107197],\n",
       " ['American_Staffordshire_terrier', 98274],\n",
       " ['vizsla', 97402],\n",
       " ['Saluki', 96240],\n",
       " ['Border_terrier', 95046],\n",
       " ['boxer', 94951],\n",
       " ['Pekinese', 93164],\n",
       " ['Blenheim_spaniel', 92809],\n",
       " ['West_Highland_white_terrier', 91084],\n",
       " ['Old_English_sheepdog', 91041],\n",
       " ['Norwegian_elkhound', 86545],\n",
       " ['kuvasz', 84242],\n",
       " ['beagle', 80400],\n",
       " ['bloodhound', 77562],\n",
       " ['collie', 73368],\n",
       " ['whippet', 72676],\n",
       " ['Bernese_mountain_dog', 67907],\n",
       " ['Doberman', 67862],\n",
       " ['schipperke', 66894],\n",
       " ['Shih-Tzu', 65186],\n",
       " ['Bedlington_terrier', 65125],\n",
       " ['Airedale', 63370],\n",
       " ['dalmatian', 62236],\n",
       " ['Great_Dane', 56385],\n",
       " ['Boston_bull', 55751],\n",
       " ['Maltese_dog', 53687],\n",
       " ['Afghan_hound', 51980],\n",
       " ['borzoi', 51720],\n",
       " ['Mexican_hairless', 50562],\n",
       " ['Irish_water_spaniel', 49200],\n",
       " ['Tibetan_mastiff', 48694],\n",
       " ['Weimaraner', 47931],\n",
       " ['German_short-haired_pointer', 44865],\n",
       " ['Leonberg', 44803],\n",
       " ['Irish_setter', 42327],\n",
       " ['Brittany_spaniel', 41290],\n",
       " ['Newfoundland', 41144],\n",
       " ['Yorkshire_terrier', 41087],\n",
       " ['Irish_terrier', 37545],\n",
       " ['malinois', 37135],\n",
       " ['Norfolk_terrier', 35027],\n",
       " ['giant_schnauzer', 34629],\n",
       " ['black-and-tan_coonhound', 34024],\n",
       " ['English_setter', 33981],\n",
       " ['Walker_hound', 32949],\n",
       " ['Greater_Swiss_Mountain_dog', 31571],\n",
       " ['papillon', 30818],\n",
       " ['bull_mastiff', 30326],\n",
       " ['komondor', 29873],\n",
       " ['briard', 28535],\n",
       " ['miniature_poodle', 27655],\n",
       " ['Saint_Bernard', 26671],\n",
       " ['Norwich_terrier', 24073],\n",
       " ['soft-coated_wheaten_terrier', 23079],\n",
       " ['Australian_terrier', 22255],\n",
       " ['Gordon_setter', 22117],\n",
       " ['Dandie_Dinmont', 20656],\n",
       " ['bluetick', 20138],\n",
       " ['redbone', 19778],\n",
       " ['keeshond', 19659],\n",
       " ['basenji', 18839],\n",
       " ['wire-haired_fox_terrier', 17077],\n",
       " ['miniature_schnauzer', 16479],\n",
       " ['cairn', 16330],\n",
       " ['Rhodesian_ridgeback', 16164],\n",
       " ['Appenzeller', 14635],\n",
       " ['curly-coated_retriever', 13836],\n",
       " ['Lhasa', 13299],\n",
       " ['toy_terrier', 8994],\n",
       " ['Sussex_spaniel', 8123],\n",
       " ['Welsh_springer_spaniel', 8097],\n",
       " ['Scottish_deerhound', 7457],\n",
       " ['Tibetan_terrier', 7364],\n",
       " ['clumber', 7320],\n",
       " ['silky_terrier', 7317],\n",
       " ['Scotch_terrier', 3624],\n",
       " ['Ibizan_hound', 3344],\n",
       " ['EntleBucher', 2678],\n",
       " ['Brabancon_griffon', 2655],\n",
       " ['standard_schnauzer', 2046],\n",
       " ['groenendael', 1896],\n",
       " ['Japanese_spaniel', 1362]]"
      ]
     },
     "execution_count": 53,
     "metadata": {},
     "output_type": "execute_result"
    }
   ],
   "source": [
    "# Sort the list by aggregate favorite count\n",
    "breed_agg_favorite.sort(key=lambda x: x[1], reverse=True)\n",
    "breed_agg_favorite"
   ]
  },
  {
   "cell_type": "code",
   "execution_count": 54,
   "metadata": {},
   "outputs": [],
   "source": [
    "breed_names = list(zip(*breed_agg_favorite[0:10]))[0] # Get names of the top 10 dog breeds\n",
    "breed_favorites = list(zip(*breed_agg_favorite[0:10]))[1] # Get ratings of the top 10 dog breeds"
   ]
  },
  {
   "cell_type": "code",
   "execution_count": 55,
   "metadata": {},
   "outputs": [
    {
     "data": {
      "image/png": "[encoded data removed]",
      "text/plain": [
       "<Figure size 720x576 with 1 Axes>"
      ]
     },
     "metadata": {
      "needs_background": "light"
     },
     "output_type": "display_data"
    }
   ],
   "source": [
    "# Plot a histogram of the top 10 dog breeds by aggregate favorite count\n",
    "plt.figure(figsize=(10,8))\n",
    "plt.barh(breed_names, breed_favorites)\n",
    "plt.gca().invert_yaxis()\n",
    "plt.xticks(rotation=90)\n",
    "plt.xlabel('Aggregate Favorite Count')\n",
    "plt.ylabel('Dog Breed')\n",
    "plt.title('Top 10 Most Favorited of Dog Breeds');"
   ]
  },
  {
   "cell_type": "markdown",
   "metadata": {},
   "source": [
    "**ANSWER:** The bar chart above shows that the most favorited dog, with an aggregate count of more than 1.6 millions, is the Golden Retrievers, followed by the Labrador Retrievers, PembrokesHow are ratings distributed within each of the dog breeds with highest favourite counts?, and Chihuahuas in second, third, and fourth."
   ]
  },
  {
   "cell_type": "markdown",
   "metadata": {},
   "source": [
    "##### Distribution of ratings among the most favorited dog breeds"
   ]
  },
  {
   "cell_type": "code",
   "execution_count": 56,
   "metadata": {},
   "outputs": [
    {
     "data": {
      "image/png": "[encoded data removed]",
      "text/plain": [
       "<Figure size 720x576 with 1 Axes>"
      ]
     },
     "metadata": {
      "needs_background": "light"
     },
     "output_type": "display_data"
    }
   ],
   "source": [
    "# Plot a boxplot of the top 10 dog breeds and their ratings\n",
    "plt.figure(figsize=(10,8))\n",
    "bplot = sns.boxplot(y='breed', x='rating_numerator',\n",
    "                    data=df,\n",
    "                    orient='h',\n",
    "                    width=0.5,\n",
    "                    palette=\"colorblind\",\n",
    "                    order=breed_names)\n",
    "plt.xlim(0,15)\n",
    "plt.ylabel('Dog Breed')\n",
    "plt.xlabel('Rating')\n",
    "plt.title('Ratings for Top 10 Most Favorited Dog Breeds');"
   ]
  },
  {
   "cell_type": "markdown",
   "metadata": {},
   "source": [
    "**ANSWER:** The boxplot shows the distribution of ratings among the most favorited dog breeds ranked by aggregate favourite count. All the breeds range between 7 and 13, with a few outliers."
   ]
  }
 ],
 "metadata": {
  "extensions": {
   "jupyter_dashboards": {
    "activeView": "report_default",
    "version": 1,
    "views": {
     "grid_default": {
      "cellMargin": 10,
      "defaultCellHeight": 20,
      "maxColumns": 12,
      "name": "grid",
      "type": "grid"
     },
     "report_default": {
      "name": "report",
      "type": "report"
     }
    }
   }
  },
  "kernelspec": {
   "display_name": "Python 3 (ipykernel)",
   "language": "python",
   "name": "python3"
  },
  "language_info": {
   "codemirror_mode": {
    "name": "ipython",
    "version": 3
   },
   "file_extension": ".py",
   "mimetype": "text/x-python",
   "name": "python",
   "nbconvert_exporter": "python",
   "pygments_lexer": "ipython3",
   "version": "3.7.12"
  }
 },
 "nbformat": 4,
 "nbformat_minor": 4
}
